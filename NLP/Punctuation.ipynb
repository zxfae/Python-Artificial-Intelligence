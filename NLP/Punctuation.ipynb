{
 "cells": [
  {
   "cell_type": "code",
   "execution_count": 1,
   "metadata": {},
   "outputs": [
    {
     "name": "stdout",
     "output_type": "stream",
     "text": [
      "Text Processing Results:\n",
      "\n",
      "Test Case 1:\n",
      "Original: Remove, this from .? ()the sentence !!!! !\"#&'()*+,-./:;<=>_\n",
      "Cleaned:  Remove this from the sentence\n",
      "Tokens:   ['Remove', 'this', 'from', 'the', 'sentence']\n",
      "Token count: 5\n",
      "----------------------------------------------------------------------\n",
      "\n",
      "Comparison Summary:\n",
      "                                               Original Text                  Cleaned Text  Token Count\n",
      "Remove, this from .? ()the sentence !!!! !\"#&'()*+,-./:;<=>_ Remove this from the sentence            5\n"
     ]
    }
   ],
   "source": [
    "from nltk.tokenize import RegexpTokenizer\n",
    "import pandas as pd\n",
    "\n",
    "def clean_text_with_regexp(text):\n",
    "    tokenizer = RegexpTokenizer(r'[a-zA-Z0-9]+')\n",
    "    tokens = tokenizer.tokenize(text)\n",
    "    cleaned_text = ' '.join(tokens)\n",
    "\n",
    "    analysis = {\n",
    "        'original_text': text,\n",
    "        'cleaned_text': cleaned_text,\n",
    "        'token_count': len(tokens),\n",
    "        'tokens': tokens\n",
    "    }\n",
    "    \n",
    "    return cleaned_text, analysis\n",
    "\n",
    "test_cases = [\n",
    "    \"Remove, this from .? ()the sentence !!!! !\\\"#&'()*+,-./:;<=>_\",\n",
    "]\n",
    "\n",
    "print(\"Text Processing Results:\\n\")\n",
    "for i, test in enumerate(test_cases, 1):\n",
    "    cleaned, analysis = clean_text_with_regexp(test)\n",
    "    \n",
    "    print(f\"Test Case {i}:\")\n",
    "    print(f\"Original: {test}\")\n",
    "    print(f\"Cleaned:  {cleaned}\")\n",
    "    print(f\"Tokens:   {analysis['tokens']}\")\n",
    "    print(f\"Token count: {analysis['token_count']}\")\n",
    "    print('-' * 70 + '\\n')\n",
    "\n",
    "comparison = pd.DataFrame([\n",
    "    {\n",
    "        'Original Text': text,\n",
    "        'Cleaned Text': clean_text_with_regexp(text)[0],\n",
    "        'Token Count': len(clean_text_with_regexp(text)[1]['tokens'])\n",
    "    }\n",
    "    for text in test_cases\n",
    "])\n",
    "\n",
    "print(\"Comparison Summary:\")\n",
    "print(comparison.to_string(index=False))"
   ]
  }
 ],
 "metadata": {
  "kernelspec": {
   "display_name": "ArtificialIntelligence",
   "language": "python",
   "name": "python3"
  },
  "language_info": {
   "codemirror_mode": {
    "name": "ipython",
    "version": 3
   },
   "file_extension": ".py",
   "mimetype": "text/x-python",
   "name": "python",
   "nbconvert_exporter": "python",
   "pygments_lexer": "ipython3",
   "version": "3.12.6"
  }
 },
 "nbformat": 4,
 "nbformat_minor": 2
}
