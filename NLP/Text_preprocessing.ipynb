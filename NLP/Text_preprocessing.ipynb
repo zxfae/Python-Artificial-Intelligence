{
 "cells": [
  {
   "cell_type": "code",
   "execution_count": 2,
   "metadata": {},
   "outputs": [
    {
     "name": "stdout",
     "output_type": "stream",
     "text": [
      "['01', 'edu', 'system', 'present', 'innov', 'curriculum', 'softwar', 'engin', 'program', 'renown', 'industrylead', 'reput', 'curriculum', 'rigor', 'design', 'learn', 'skill', 'digit', 'world', 'technolog', 'industri', 'take', 'differ', 'approach', 'classic', 'teach', 'method', 'today', 'learn', 'facilit', 'collect', 'cocr', 'process', 'profession', 'environ']\n"
     ]
    }
   ],
   "source": [
    "import nltk\n",
    "from nltk.tokenize import word_tokenize\n",
    "from nltk.corpus import stopwords\n",
    "from nltk.stem import PorterStemmer\n",
    "import string\n",
    "\n",
    "def preprocess_text(text):\n",
    "    # 1. lowercase\n",
    "    text = text.lower()\n",
    "    \n",
    "    # 2. clear ponctuation\n",
    "    text = ''.join([char for char in text if char not in string.punctuation])\n",
    "    \n",
    "    # 3. Tokenization\n",
    "    tokens = word_tokenize(text)\n",
    "    \n",
    "    # 4.English stop word\n",
    "    stop_words = set(stopwords.words('english'))\n",
    "    tokens = [token for token in tokens if token not in stop_words]\n",
    "    \n",
    "    # 5. Stemming\n",
    "    stemmer = PorterStemmer()\n",
    "    tokens = [stemmer.stem(token) for token in tokens]\n",
    "    \n",
    "    return tokens\n",
    "\n",
    "text = \"\"\"01 Edu System presents an innovative curriculum in software engineering and programming. \n",
    "With a renowned industry-leading reputation, the curriculum has been rigorously designed for learning \n",
    "skills of the digital world and technology industry. Taking a different approach than the classic \n",
    "teaching methods today, learning is facilitated through a collective and co-creative process in a \n",
    "professional environment.\"\"\"\n",
    "\n",
    "preprocessed_text = preprocess_text(text)\n",
    "\n",
    "print(preprocessed_text)"
   ]
  }
 ],
 "metadata": {
  "kernelspec": {
   "display_name": "ArtificialIntelligence",
   "language": "python",
   "name": "python3"
  },
  "language_info": {
   "codemirror_mode": {
    "name": "ipython",
    "version": 3
   },
   "file_extension": ".py",
   "mimetype": "text/x-python",
   "name": "python",
   "nbconvert_exporter": "python",
   "pygments_lexer": "ipython3",
   "version": "3.12.6"
  }
 },
 "nbformat": 4,
 "nbformat_minor": 2
}
