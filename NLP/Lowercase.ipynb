{
 "cells": [
  {
   "cell_type": "code",
   "execution_count": 1,
   "metadata": {},
   "outputs": [
    {
     "name": "stdout",
     "output_type": "stream",
     "text": [
      "1. Texts in lowercase:\n",
      "0    this is my first nlp exercise\n",
      "1                        wtf !!!!!\n",
      "Name: Lowercase, dtype: object\n",
      "\n",
      "2. Texts in uppercase:\n",
      "0    THIS IS MY FIRST NLP EXERCISE\n",
      "1                        WTF !!!!!\n",
      "Name: Uppercase, dtype: object\n",
      "\n",
      "Detailed Analysis:\n",
      "\n",
      "Test Case 1:\n",
      "Original: This is my first NLP exercise\n",
      "Lowercase: this is my first nlp exercise\n",
      "Uppercase: THIS IS MY FIRST NLP EXERCISE\n",
      "Tokens: ['this', 'is', 'my', 'first', 'nlp', 'exercise']\n",
      "Token count: 6\n",
      "----------------------------------------------------------------------\n",
      "\n",
      "Test Case 2:\n",
      "Original: wtf!!!!!\n",
      "Lowercase: wtf !!!!!\n",
      "Uppercase: WTF !!!!!\n",
      "Tokens: ['wtf', '!!!!!']\n",
      "Token count: 2\n",
      "----------------------------------------------------------------------\n"
     ]
    }
   ],
   "source": [
    "from nltk.tokenize import RegexpTokenizer\n",
    "import pandas as pd\n",
    "\n",
    "list_ = [\"This is my first NLP exercise\", \"wtf!!!!!\"]\n",
    "series_data = pd.Series(list_, name='text')\n",
    "\n",
    "def clean_and_case_text(text, case='lower'):\n",
    "    tokenizer = RegexpTokenizer(r'[a-zA-Z0-9]+|[!?.,]+')\n",
    "    \n",
    "    if case == 'lower':\n",
    "        text = text.lower()\n",
    "    elif case == 'upper':\n",
    "        text = text.upper()\n",
    "        \n",
    "    tokens = tokenizer.tokenize(text)\n",
    "    cleaned_text = ' '.join(tokens)\n",
    "    \n",
    "    analysis = {\n",
    "        'original_text': text,\n",
    "        'cleaned_text': cleaned_text,\n",
    "        'token_count': len(tokens),\n",
    "        'tokens': tokens\n",
    "    }\n",
    "    \n",
    "    return cleaned_text, analysis\n",
    "\n",
    "results_df = pd.DataFrame({\n",
    "    'Original': series_data,\n",
    "    'Lowercase': series_data.apply(lambda x: clean_and_case_text(x, 'lower')[0]),\n",
    "    'Uppercase': series_data.apply(lambda x: clean_and_case_text(x, 'upper')[0])\n",
    "})\n",
    "\n",
    "print(\"1. Texts in lowercase:\")\n",
    "print(results_df['Lowercase'])\n",
    "print(\"\\n2. Texts in uppercase:\")\n",
    "print(results_df['Uppercase'])\n",
    "\n",
    "print(\"\\nDetailed Analysis:\")\n",
    "for i, test in enumerate(list_, 1):\n",
    "    cleaned_lower, analysis_lower = clean_and_case_text(test, 'lower')\n",
    "    cleaned_upper, analysis_upper = clean_and_case_text(test, 'upper')\n",
    "    \n",
    "    print(f\"\\nTest Case {i}:\")\n",
    "    print(f\"Original: {test}\")\n",
    "    print(f\"Lowercase: {cleaned_lower}\")\n",
    "    print(f\"Uppercase: {cleaned_upper}\")\n",
    "    print(f\"Tokens: {analysis_lower['tokens']}\")\n",
    "    print(f\"Token count: {analysis_lower['token_count']}\")\n",
    "    print('-' * 70)"
   ]
  }
 ],
 "metadata": {
  "kernelspec": {
   "display_name": "ArtificialIntelligence",
   "language": "python",
   "name": "python3"
  },
  "language_info": {
   "codemirror_mode": {
    "name": "ipython",
    "version": 3
   },
   "file_extension": ".py",
   "mimetype": "text/x-python",
   "name": "python",
   "nbconvert_exporter": "python",
   "pygments_lexer": "ipython3",
   "version": "3.12.6"
  }
 },
 "nbformat": 4,
 "nbformat_minor": 2
}
