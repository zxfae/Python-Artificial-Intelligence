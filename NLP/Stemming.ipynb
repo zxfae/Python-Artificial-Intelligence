{
 "cells": [
  {
   "cell_type": "code",
   "execution_count": 1,
   "metadata": {},
   "outputs": [
    {
     "name": "stdout",
     "output_type": "stream",
     "text": [
      "['the', 'interview', 'interview', 'the', 'presid', 'in', 'an', 'interview']\n"
     ]
    }
   ],
   "source": [
    "from nltk.stem import PorterStemmer\n",
    "from nltk.tokenize import word_tokenize\n",
    "\n",
    "# Créer une instance du stemmer\n",
    "stemmer = PorterStemmer()\n",
    "\n",
    "# Le texte à traiter\n",
    "text = \"\"\"\n",
    "The interviewer interviews the president in an interview\n",
    "\"\"\"\n",
    "\n",
    "# Tokeniser le texte\n",
    "tokens = word_tokenize(text)\n",
    "\n",
    "# Appliquer le stemming à chaque token\n",
    "stemmed_words = [stemmer.stem(token) for token in tokens]\n",
    "\n",
    "print(stemmed_words)"
   ]
  }
 ],
 "metadata": {
  "kernelspec": {
   "display_name": "ArtificialIntelligence",
   "language": "python",
   "name": "python3"
  },
  "language_info": {
   "codemirror_mode": {
    "name": "ipython",
    "version": 3
   },
   "file_extension": ".py",
   "mimetype": "text/x-python",
   "name": "python",
   "nbconvert_exporter": "python",
   "pygments_lexer": "ipython3",
   "version": "3.12.6"
  }
 },
 "nbformat": 4,
 "nbformat_minor": 2
}
