{
 "cells": [
  {
   "cell_type": "code",
   "execution_count": 13,
   "metadata": {},
   "outputs": [
    {
     "name": "stdout",
     "output_type": "stream",
     "text": [
      "['The', 'goal', 'exercise', 'learn', 'remove', 'stop', 'words', 'NLTK', '.', 'Stop', 'words', 'usually', 'refers', 'common', 'words', 'language', '.']\n"
     ]
    }
   ],
   "source": [
    "from nltk.corpus import stopwords\n",
    "\n",
    "stop_words = set(stopwords.words('english'))\n",
    "\n",
    "# Au lieu de retirer complètement 'the', nous gardons seulement les mots\n",
    "# qui ne sont pas des stop words OU qui sont exactement 'The' (avec majuscule)\n",
    "phrase = \"\"\"The goal of this exercise is to learn to remove stop words with NLTK.  Stop words usually refers to the most common words in a language.\"\"\"\n",
    "\n",
    "words = []\n",
    "for word in phrase.split():\n",
    "    if word.endswith('.'):\n",
    "        words.append(word[:-1])\n",
    "        words.append('.')\n",
    "    else:\n",
    "        words.append(word)\n",
    "\n",
    "# Modifions la condition du filtrage\n",
    "words_without_stopwords = [word for word in words if (word.lower() not in stop_words) or word == 'The']\n",
    "\n",
    "print(words_without_stopwords)"
   ]
  }
 ],
 "metadata": {
  "kernelspec": {
   "display_name": "ArtificialIntelligence",
   "language": "python",
   "name": "python3"
  },
  "language_info": {
   "codemirror_mode": {
    "name": "ipython",
    "version": 3
   },
   "file_extension": ".py",
   "mimetype": "text/x-python",
   "name": "python",
   "nbconvert_exporter": "python",
   "pygments_lexer": "ipython3",
   "version": "3.12.6"
  }
 },
 "nbformat": 4,
 "nbformat_minor": 2
}
