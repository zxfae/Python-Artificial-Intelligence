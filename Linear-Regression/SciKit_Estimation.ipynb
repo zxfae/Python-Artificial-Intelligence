{
 "cells": [
  {
   "cell_type": "code",
   "execution_count": 5,
   "metadata": {},
   "outputs": [],
   "source": [
    "import numpy as np\n",
    "from sklearn.linear_model import LinearRegression"
   ]
  },
  {
   "cell_type": "markdown",
   "metadata": {},
   "source": [
    "#### Datas"
   ]
  },
  {
   "cell_type": "code",
   "execution_count": 6,
   "metadata": {},
   "outputs": [],
   "source": [
    "# Independants variables\n",
    "X = np.array([[1], [2.1], [3]])\n",
    "# Dependants variables\n",
    "y = np.array([[1], [2], [3]])\n",
    "\n",
    "# Example :\n",
    "# X Ind : Study hours\n",
    "# Y Dep :\n",
    "\n",
    "# Warning overfiting\n",
    "## House Price ##\n",
    "# X Ind : Width House\n",
    "# X1 Ind : N chambers House\n",
    "# X2 Ind : Age of House\n",
    "\n",
    "# Y Dep : Price House"
   ]
  },
  {
   "cell_type": "markdown",
   "metadata": {},
   "source": [
    "#### 1- Fit a LinearRegression from Scikit-learn with X the features and y the target and predict for x_pred = [[4]]"
   ]
  },
  {
   "cell_type": "code",
   "execution_count": 7,
   "metadata": {},
   "outputs": [],
   "source": [
    "### Create LinearRegression ScitKit-learn instance ###\n",
    "### LinearRegression() contains all algorithms to do LinearRegress ###\n",
    "### The instance's empty ###\n",
    "\n",
    "## Fit(X,y) === Set datas ##\n",
    "model = LinearRegression().fit(X,y)\n",
    "\n",
    "# Created 2D array to get my pred #\n",
    "x_pred = np.array([[4]])\n",
    "\n",
    "# Predict => X +1 (4)\n",
    "prediction = model.predict(x_pred)"
   ]
  },
  {
   "cell_type": "markdown",
   "metadata": {},
   "source": [
    "#### 2- Print the coefficients (coefs_) and the intercept (intercept_), the score (score) of the regression of X and y."
   ]
  },
  {
   "cell_type": "code",
   "execution_count": 8,
   "metadata": {},
   "outputs": [
    {
     "name": "stdout",
     "output_type": "stream",
     "text": [
      "Coefficients: [[0.99667774]]\n",
      "Intercept: [-0.02657807]\n",
      "Score: 0.9966777408637874\n",
      "Prediction for x_pred=[[4]]: [[3.96013289]]\n"
     ]
    }
   ],
   "source": [
    "# The general equation of linear regression: y = mx + b\n",
    "# where m is the slope (coefficient) and b is the y-intercept\n",
    " # > 0 up, < 0 down, === 0 equal\n",
    "m = model.coef_\n",
    "print(f\"Coefficients: {m}\")\n",
    "\n",
    "# Print the y-intercept of the model\n",
    "# This is 'b' in the equation y = mx + b\n",
    "# 0\n",
    "b = model.intercept_\n",
    "print(f\"Intercept: {b}\")\n",
    "\n",
    "# Print the R-squared score of the model\n",
    "# This indicates how well the model fits the data (ranges from 0 to 1)\n",
    "print(f\"Score: {model.score(X, y)}\")\n",
    "\n",
    "# Print the model's prediction for x = 4\n",
    "# This uses the fitted model to predict y when x is 4\n",
    "print(f\"Prediction for x_pred=[[4]]: {prediction}\")"
   ]
  }
 ],
 "metadata": {
  "kernelspec": {
   "display_name": "ArtificialIntelligence",
   "language": "python",
   "name": "python3"
  },
  "language_info": {
   "codemirror_mode": {
    "name": "ipython",
    "version": 3
   },
   "file_extension": ".py",
   "mimetype": "text/x-python",
   "name": "python",
   "nbconvert_exporter": "python",
   "pygments_lexer": "ipython3",
   "version": "3.12.6"
  }
 },
 "nbformat": 4,
 "nbformat_minor": 2
}
