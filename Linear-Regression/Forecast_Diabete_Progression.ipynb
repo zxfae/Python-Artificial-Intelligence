{
 "cells": [
  {
   "cell_type": "code",
   "execution_count": 207,
   "metadata": {},
   "outputs": [],
   "source": [
    "import numpy as np\n",
    "import pandas as pd\n",
    "from sklearn.datasets import load_diabetes\n",
    "from sklearn.model_selection import train_test_split\n",
    "from sklearn.linear_model import LinearRegression\n",
    "from sklearn.metrics import mean_squared_error"
   ]
  },
  {
   "cell_type": "markdown",
   "metadata": {},
   "source": [
    "#### 1 - Using train_test_split, split the data set in a train set, and test set (20%). Use random_state=43 for results reproducibility."
   ]
  },
  {
   "cell_type": "markdown",
   "metadata": {},
   "source": [
    "###### Datas"
   ]
  },
  {
   "cell_type": "code",
   "execution_count": 208,
   "metadata": {},
   "outputs": [],
   "source": [
    "\n",
    "diabetes = load_diabetes(as_frame=True)\n",
    "X, y = diabetes.data, diabetes.target"
   ]
  },
  {
   "cell_type": "markdown",
   "metadata": {},
   "source": [
    "#### 1 - Using train_test_split, split the data set in a train set, and test set (20%). Use random_state=43 for results reproducibility.\n",
    "\n"
   ]
  },
  {
   "cell_type": "code",
   "execution_count": 209,
   "metadata": {},
   "outputs": [
    {
     "name": "stdout",
     "output_type": "stream",
     "text": [
      "y_train.values[:10]\n",
      "[202.  55. 202.  42. 214. 173. 118.  90. 129. 151.]\n",
      "y_test.values[:10]\n",
      "[ 71.  72. 235. 277. 109.  61. 109.  78.  66. 192.]\n"
     ]
    }
   ],
   "source": [
    "\n",
    "X_train, X_test, y_train, y_test = train_test_split(X, y, test_size=0.2, random_state=43)\n",
    "print(\"y_train.values[:10]\")\n",
    "print(y_train.values[:10])\n",
    "print(\"y_test.values[:10]\")\n",
    "print(y_test.values[:10])"
   ]
  },
  {
   "cell_type": "markdown",
   "metadata": {},
   "source": [
    "#### 2 - Fit the Linear Regression on all the variables. Give the coefficients and the intercept of the Linear Regression. What is the equation ?"
   ]
  },
  {
   "cell_type": "code",
   "execution_count": 210,
   "metadata": {},
   "outputs": [
    {
     "name": "stdout",
     "output_type": "stream",
     "text": [
      "\n",
      "Question 2:\n",
      "Coefficients and Intercept:\n",
      "[('age', np.float64(-60.39984809333619)), ('sex', np.float64(-226.0835904426927)), ('bmi', np.float64(529.3849571887342)), ('bp', np.float64(259.9619941214206)), ('s1', np.float64(-859.0930093348028)), ('s2', np.float64(504.6869733896189)), ('s3', np.float64(157.41085788032757)), ('s4', np.float64(226.29313435521055)), ('s5', np.float64(840.7840406049223)), ('s6', np.float64(34.71226555571722)), ('intercept', np.float64(152.0532454782767))]\n"
     ]
    }
   ],
   "source": [
    "model = LinearRegression().fit(X_train, y_train)\n",
    "expected_order = ['age', 'sex', 'bmi', 'bp', 's1', 's2', 's3', 's4', 's5', 's6']\n",
    "X = X[expected_order]\n",
    "\n",
    "coef_list = [(feature, coef) for feature, coef in zip(expected_order, model.coef_)]\n",
    "coef_list.append(('intercept', model.intercept_))\n",
    "\n",
    "print(\"\\nQuestion 2:\")\n",
    "print(\"Coefficients and Intercept:\")\n",
    "print(coef_list)\n",
    "y_pred_test = model.predict(X_test).reshape(-1, 1)"
   ]
  },
  {
   "cell_type": "code",
   "execution_count": 211,
   "metadata": {},
   "outputs": [
    {
     "name": "stdout",
     "output_type": "stream",
     "text": [
      "\n",
      "Question 3:\n",
      "predictions_on_test[:10]\n",
      "[[111.74267934]\n",
      " [ 98.41608992]\n",
      " [168.36714629]\n",
      " [255.06351455]\n",
      " [168.44138847]\n",
      " [117.60698984]\n",
      " [198.8733865 ]\n",
      " [126.2932775 ]\n",
      " [117.72876579]\n",
      " [224.82776308]]\n"
     ]
    }
   ],
   "source": [
    "print(\"\\nQuestion 3:\")\n",
    "print(\"predictions_on_test[:10]\")\n",
    "print(y_pred_test[:10])"
   ]
  },
  {
   "cell_type": "markdown",
   "metadata": {},
   "source": [
    "#### 3 - MSE"
   ]
  },
  {
   "cell_type": "code",
   "execution_count": 212,
   "metadata": {},
   "outputs": [
    {
     "name": "stdout",
     "output_type": "stream",
     "text": [
      "\n",
      "Question 4:\n",
      "MSE on train set: 2888.324598\n",
      "MSE on test set: 2858.291506\n"
     ]
    }
   ],
   "source": [
    "def mse(y_true, y_pred):\n",
    "    return np.mean((y_true - y_pred) ** 2)\n",
    "\n",
    "y_pred_train = model.predict(X_train)\n",
    "mse_train = mse(y_train, y_pred_train)\n",
    "mse_test = mse(y_test, y_pred_test.flatten())\n",
    "\n",
    "print(\"\\nQuestion 4:\")\n",
    "print(f\"MSE on train set: {mse_train:.6f}\")\n",
    "print(f\"MSE on test set: {mse_test:.6f}\")"
   ]
  },
  {
   "cell_type": "code",
   "execution_count": null,
   "metadata": {},
   "outputs": [],
   "source": []
  }
 ],
 "metadata": {
  "kernelspec": {
   "display_name": "ArtificialIntelligence",
   "language": "python",
   "name": "python3"
  },
  "language_info": {
   "codemirror_mode": {
    "name": "ipython",
    "version": 3
   },
   "file_extension": ".py",
   "mimetype": "text/x-python",
   "name": "python",
   "nbconvert_exporter": "python",
   "pygments_lexer": "ipython3",
   "version": "3.12.6"
  }
 },
 "nbformat": 4,
 "nbformat_minor": 2
}
