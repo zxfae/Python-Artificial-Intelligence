{
 "cells": [
  {
   "cell_type": "code",
   "execution_count": 18,
   "metadata": {},
   "outputs": [],
   "source": [
    "import numpy as np\n",
    "from sklearn.preprocessing import OrdinalEncoder"
   ]
  },
  {
   "cell_type": "markdown",
   "metadata": {},
   "source": [
    "#### 1 - Fit the OrdinalEncoder by specifying the categories in the following order: categories=[['bad', 'neutral', 'good']]. Transform the train set. Print the categories"
   ]
  },
  {
   "cell_type": "code",
   "execution_count": 19,
   "metadata": {},
   "outputs": [
    {
     "name": "stdout",
     "output_type": "stream",
     "text": [
      "Transformed X_train:\n",
      " [[2.]\n",
      " [0.]\n",
      " [1.]]\n",
      "Categories: [array(['bad', 'neutral', 'good'], dtype=object)]\n"
     ]
    }
   ],
   "source": [
    "X_train = [['good'], ['bad'], ['neutral']]\n",
    "categories = [['bad', 'neutral', 'good']]\n",
    "encoder = OrdinalEncoder(categories=categories)\n",
    "X_train_encoded = encoder.fit_transform(X_train)\n",
    "print(\"Transformed X_train:\\n\", X_train_encoded)\n",
    "print(\"Categories:\", encoder.categories_)"
   ]
  },
  {
   "cell_type": "markdown",
   "metadata": {},
   "source": [
    "#### 2 - Transform the X_test using the fitted Ordinal Encoder on train set."
   ]
  },
  {
   "cell_type": "code",
   "execution_count": 20,
   "metadata": {},
   "outputs": [
    {
     "name": "stdout",
     "output_type": "stream",
     "text": [
      "Transformed X_test:\n",
      " [[2.]\n",
      " [2.]\n",
      " [0.]]\n"
     ]
    }
   ],
   "source": [
    "\n",
    "X_test = [['good'], ['good'], ['bad']]\n",
    "\n",
    "X_test_encoded = encoder.transform(X_test)\n",
    "\n",
    "print(\"Transformed X_test:\\n\", X_test_encoded)"
   ]
  }
 ],
 "metadata": {
  "kernelspec": {
   "display_name": "ArtificialIntelligence",
   "language": "python",
   "name": "python3"
  },
  "language_info": {
   "codemirror_mode": {
    "name": "ipython",
    "version": 3
   },
   "file_extension": ".py",
   "mimetype": "text/x-python",
   "name": "python",
   "nbconvert_exporter": "python",
   "pygments_lexer": "ipython3",
   "version": "3.12.6"
  }
 },
 "nbformat": 4,
 "nbformat_minor": 2
}
