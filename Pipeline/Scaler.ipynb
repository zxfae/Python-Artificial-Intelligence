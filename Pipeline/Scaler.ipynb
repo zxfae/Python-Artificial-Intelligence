{
 "cells": [
  {
   "cell_type": "code",
   "execution_count": 22,
   "metadata": {},
   "outputs": [],
   "source": [
    "import numpy as np\n",
    "from sklearn.preprocessing import StandardScaler\n"
   ]
  },
  {
   "cell_type": "markdown",
   "metadata": {},
   "source": [
    "#### 1 - Fit the StandardScaler on the data and scale X_train using fit_transform. Compute the mean and std on axis 0."
   ]
  },
  {
   "cell_type": "code",
   "execution_count": 23,
   "metadata": {},
   "outputs": [
    {
     "name": "stdout",
     "output_type": "stream",
     "text": [
      "Scaled X_train:\n",
      " [[ 0.         -1.22474487  1.33630621]\n",
      " [ 1.22474487  0.         -0.26726124]\n",
      " [-1.22474487  1.22474487 -1.06904497]]\n",
      "Mean of X_train: [1.         0.         0.33333333]\n",
      "Standard Deviation of X_train: [0.81649658 0.81649658 1.24721913]\n"
     ]
    }
   ],
   "source": [
    "# Define the training dataset\n",
    "X_train = np.array([[ 1., -1.,  2.],\n",
    "                    [ 2.,  0.,  0.],\n",
    "                    [ 0.,  1., -1.]])\n",
    "\n",
    "# Initialize the StandardScaler\n",
    "scaler = StandardScaler()\n",
    "# Train datas\n",
    "X_train_scaled = scaler.fit_transform(X_train)\n",
    "\n",
    "mean = scaler.mean_ \n",
    "std = np.sqrt(scaler.var_)\n",
    "\n",
    "print(\"Scaled X_train:\\n\", X_train_scaled)\n",
    "print(\"Mean of X_train:\", mean)\n",
    "print(\"Standard Deviation of X_train:\", std)\n"
   ]
  },
  {
   "cell_type": "markdown",
   "metadata": {},
   "source": []
  },
  {
   "cell_type": "markdown",
   "metadata": {},
   "source": [
    "#### 2 - Scale the test set using the StandardScaler fitted on the train set."
   ]
  },
  {
   "cell_type": "code",
   "execution_count": 24,
   "metadata": {},
   "outputs": [
    {
     "name": "stdout",
     "output_type": "stream",
     "text": [
      "Scaled X_test:\n",
      " [[ 1.22474487 -1.22474487  0.53452248]\n",
      " [ 2.44948974  3.67423461 -1.06904497]\n",
      " [ 0.          1.22474487  0.53452248]]\n"
     ]
    }
   ],
   "source": [
    "X_test = np.array([[ 2., -1.,  1.],\n",
    "                   [ 3.,  3., -1.],\n",
    "                   [ 1.,  1.,  1.]])\n",
    "\n",
    "X_test_scaled = scaler.transform(X_test)\n",
    "\n",
    "print(\"Scaled X_test:\\n\", X_test_scaled)\n"
   ]
  }
 ],
 "metadata": {
  "kernelspec": {
   "display_name": "ArtificialIntelligence",
   "language": "python",
   "name": "python3"
  },
  "language_info": {
   "codemirror_mode": {
    "name": "ipython",
    "version": 3
   },
   "file_extension": ".py",
   "mimetype": "text/x-python",
   "name": "python",
   "nbconvert_exporter": "python",
   "pygments_lexer": "ipython3",
   "version": "3.12.6"
  }
 },
 "nbformat": 4,
 "nbformat_minor": 2
}
