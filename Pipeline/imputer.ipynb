{
 "cells": [
  {
   "cell_type": "code",
   "execution_count": 29,
   "metadata": {},
   "outputs": [],
   "source": [
    "import numpy as np\n",
    "from sklearn.impute import SimpleImputer"
   ]
  },
  {
   "cell_type": "markdown",
   "metadata": {},
   "source": [
    "#### 1 - Fit the SimpleImputer on the data. Print the statistics_. Check that the statistics match np.nanmean(train_data, axis=0)."
   ]
  },
  {
   "cell_type": "code",
   "execution_count": 30,
   "metadata": {},
   "outputs": [
    {
     "name": "stdout",
     "output_type": "stream",
     "text": [
      "Imputer statistics (means of columns): [ 4. 13.  6.]\n"
     ]
    }
   ],
   "source": [
    "train_data = np.array([[7, 6, 5],\n",
    "                       [4, np.nan, 5],\n",
    "                       [1, 20, 8]])\n",
    "# For this example :\n",
    "# 7 + 4 + 1 / 3 = 4\n",
    "# 6 + 20 / 2 = 13\n",
    "# 5 + 5 + 8 / 3 = 4\n",
    "imp_mean = SimpleImputer(missing_values=np.nan, strategy='mean').fit(train_data)\n",
    "print(\"Imputer statistics (means of columns):\", imp_mean.statistics_)"
   ]
  },
  {
   "cell_type": "markdown",
   "metadata": {},
   "source": [
    "#### 2 - Fill the missing values in train_data using the fitted imputer and transform."
   ]
  },
  {
   "cell_type": "code",
   "execution_count": 31,
   "metadata": {},
   "outputs": [
    {
     "name": "stdout",
     "output_type": "stream",
     "text": [
      "Imputed train_data:\n",
      " [[ 7.  6.  5.]\n",
      " [ 4. 13.  5.]\n",
      " [ 1. 20.  8.]]\n"
     ]
    }
   ],
   "source": [
    "# After the SimpleImputer\n",
    "# Each np.nan values = column mean\n",
    "train_data_imputed = imp_mean.transform(train_data)\n",
    "print(\"Imputed train_data:\\n\", train_data_imputed)\n"
   ]
  },
  {
   "cell_type": "markdown",
   "metadata": {},
   "source": [
    "#### 3 - Fill the missing values in test_data using the fitted imputer and transform."
   ]
  },
  {
   "cell_type": "code",
   "execution_count": 32,
   "metadata": {},
   "outputs": [
    {
     "name": "stdout",
     "output_type": "stream",
     "text": [
      "Imputed test_data:\n",
      " [[ 4.  1.  2.]\n",
      " [ 7. 13.  9.]\n",
      " [ 4.  2.  4.]]\n"
     ]
    }
   ],
   "source": [
    "test_data = np.array([[np.nan, 1, 2],\n",
    "                      [7, np.nan, 9],\n",
    "                      [np.nan, 2, 4]])\n",
    "\n",
    "test_data_imputed = imp_mean.transform(test_data)\n",
    "print(\"Imputed test_data:\\n\", test_data_imputed)"
   ]
  }
 ],
 "metadata": {
  "kernelspec": {
   "display_name": "ArtificialIntelligence",
   "language": "python",
   "name": "python3"
  },
  "language_info": {
   "codemirror_mode": {
    "name": "ipython",
    "version": 3
   },
   "file_extension": ".py",
   "mimetype": "text/x-python",
   "name": "python",
   "nbconvert_exporter": "python",
   "pygments_lexer": "ipython3",
   "version": "3.12.6"
  }
 },
 "nbformat": 4,
 "nbformat_minor": 2
}
