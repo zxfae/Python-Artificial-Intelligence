{
 "cells": [
  {
   "cell_type": "code",
   "execution_count": 13,
   "metadata": {},
   "outputs": [],
   "source": [
    "import numpy as np\n",
    "import pandas as pd\n",
    "from sklearn.preprocessing import OneHotEncoder"
   ]
  },
  {
   "cell_type": "markdown",
   "metadata": {},
   "source": [
    "#### 1 - Using OneHotEncoder with handle_unknown='ignore', fit the One Hot Encoder and transform X_train. The expected output is:"
   ]
  },
  {
   "cell_type": "code",
   "execution_count": 14,
   "metadata": {},
   "outputs": [
    {
     "name": "stdout",
     "output_type": "stream",
     "text": [
      "Transformed X_train:\n",
      "    C++ Java Python\n",
      "0  0.0  0.0    1.0\n",
      "1  0.0  1.0    0.0\n",
      "2  0.0  1.0    0.0\n",
      "3  1.0  0.0    0.0\n"
     ]
    }
   ],
   "source": [
    "X_train = [['Python'], ['Java'], ['Java'], ['C++']]\n",
    "encoder = OneHotEncoder(sparse_output=False, handle_unknown='ignore')\n",
    "\n",
    "X_train_encoded = encoder.fit_transform(X_train)\n",
    "X_train_df = pd.DataFrame(X_train_encoded, columns=encoder.categories_)\n",
    "\n",
    "print(\"Transformed X_train:\\n\", X_train_df)\n"
   ]
  },
  {
   "cell_type": "markdown",
   "metadata": {},
   "source": [
    "#### 2 - Transform X_test using the fitted One Hot Encoder on the train set."
   ]
  },
  {
   "cell_type": "code",
   "execution_count": 15,
   "metadata": {},
   "outputs": [
    {
     "name": "stdout",
     "output_type": "stream",
     "text": [
      "Transformed X_test:\n",
      "    C++ Java Python\n",
      "0  0.0  0.0    1.0\n",
      "1  0.0  1.0    0.0\n",
      "2  0.0  0.0    0.0\n",
      "3  1.0  0.0    0.0\n"
     ]
    }
   ],
   "source": [
    "X_test = [['Python'], ['Java'], ['C'], ['C++']]\n",
    "\n",
    "X_test_encoded = encoder.transform(X_test)\n",
    "X_test_df = pd.DataFrame(X_test_encoded, columns=encoder.categories_)\n",
    "\n",
    "print(\"Transformed X_test:\\n\", X_test_df)\n"
   ]
  }
 ],
 "metadata": {
  "kernelspec": {
   "display_name": "ArtificialIntelligence",
   "language": "python",
   "name": "python3"
  },
  "language_info": {
   "codemirror_mode": {
    "name": "ipython",
    "version": 3
   },
   "file_extension": ".py",
   "mimetype": "text/x-python",
   "name": "python",
   "nbconvert_exporter": "python",
   "pygments_lexer": "ipython3",
   "version": "3.12.6"
  }
 },
 "nbformat": 4,
 "nbformat_minor": 2
}
