{
 "cells": [
  {
   "cell_type": "code",
   "execution_count": 9,
   "metadata": {},
   "outputs": [],
   "source": [
    "import pandas as pd\n",
    "\n",
    "start_date = '2010-01-01'\n",
    "end_date = '2020-12-31'\n",
    "date_range = pd.date_range(start=start_date, end=end_date, freq='D')\n",
    "integer_series = pd.Series(range(len(date_range)), index=date_range, name='integer_series')"
   ]
  },
  {
   "cell_type": "code",
   "execution_count": 10,
   "metadata": {},
   "outputs": [
    {
     "name": "stdout",
     "output_type": "stream",
     "text": [
      "2010-01-01       0\n",
      "2010-01-02       1\n",
      "2010-01-03       2\n",
      "2010-01-04       3\n",
      "2010-01-05       4\n",
      "              ... \n",
      "2020-12-27    4013\n",
      "2020-12-28    4014\n",
      "2020-12-29    4015\n",
      "2020-12-30    4016\n",
      "2020-12-31    4017\n",
      "Freq: D, Name: integer_series, Length: 4018, dtype: int64\n"
     ]
    }
   ],
   "source": [
    "print(integer_series)"
   ]
  },
  {
   "cell_type": "code",
   "execution_count": 11,
   "metadata": {},
   "outputs": [
    {
     "name": "stdout",
     "output_type": "stream",
     "text": [
      "\n",
      "Moving Average:\n",
      "2010-01-01       NaN\n",
      "2010-01-02       NaN\n",
      "2010-01-03       NaN\n",
      "2010-01-04       NaN\n",
      "2010-01-05       NaN\n",
      "               ...  \n",
      "2020-12-27    4010.0\n",
      "2020-12-28    4011.0\n",
      "2020-12-29    4012.0\n",
      "2020-12-30    4013.0\n",
      "2020-12-31    4014.0\n",
      "Freq: D, Name: integer_series, Length: 4018, dtype: float64\n"
     ]
    }
   ],
   "source": [
    "moving_average = integer_series.rolling(window=7).mean()\n",
    "\n",
    "print(\"\\nMoving Average:\")\n",
    "print(moving_average)"
   ]
  }
 ],
 "metadata": {
  "kernelspec": {
   "display_name": "ArtificialIntelligence",
   "language": "python",
   "name": "python3"
  },
  "language_info": {
   "codemirror_mode": {
    "name": "ipython",
    "version": 3
   },
   "file_extension": ".py",
   "mimetype": "text/x-python",
   "name": "python",
   "nbconvert_exporter": "python",
   "pygments_lexer": "ipython3",
   "version": "3.12.6"
  }
 },
 "nbformat": 4,
 "nbformat_minor": 2
}
