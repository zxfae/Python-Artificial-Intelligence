{
 "cells": [
  {
   "cell_type": "code",
   "execution_count": 3,
   "metadata": {},
   "outputs": [],
   "source": [
    "import pandas as pd\n",
    "import plotly.graph_objects as go\n",
    "import numpy as np"
   ]
  },
  {
   "cell_type": "code",
   "execution_count": null,
   "metadata": {},
   "outputs": [],
   "source": [
    "# Step 1: Load and preprocess the data\n",
    "df = pd.read_csv('AAPL.csv')\n",
    "\n",
    "# Convert date to datetime and set as index\n",
    "df['Date'] = pd.to_datetime(df['Date'])\n",
    "df.set_index('Date', inplace=True)\n",
    "\n",
    "# Check for missing values and data types\n",
    "print(\"Data Info:\")\n",
    "print(df.info())\n",
    "print(\"\\nData Description:\")\n",
    "print(df.describe())\n",
    "print(\"\\nMissing values:\\n\", df.isnull().sum())\n",
    "\n",
    "# Step 2: Create a candlestick chart\n",
    "fig = go.Figure(data=[go.Candlestick(x=df.index,\n",
    "                open=df['Open'],\n",
    "                high=df['High'],\n",
    "                low=df['Low'],\n",
    "                close=df['Close'])])\n",
    "\n",
    "fig.update_layout(title='Apple Stock Candlestick Chart', xaxis_title='Date', yaxis_title='Price')\n",
    "fig.show()\n",
    "\n",
    "# Step 3: Aggregate data to last business day of each month\n",
    "monthly_data = df.resample('BM').agg({\n",
    "    'Open': 'mean',\n",
    "    'High': 'max',\n",
    "    'Low': 'min',\n",
    "    'Close': 'mean',\n",
    "    'Volume': 'sum'\n",
    "})\n",
    "\n",
    "print(\"\\nMonthly Data (first 5 rows):\")\n",
    "print(monthly_data.head().to_markdown())\n",
    "print(\"\\nNumber of months in the dataset:\", len(monthly_data))\n",
    "\n",
    "# Step 4: Compute daily returns\n",
    "# Method 1: Using pct_change\n",
    "daily_returns_pct = df['Open'].pct_change()\n",
    "\n",
    "# Method 2: Vectorized approach\n",
    "daily_returns_vec = (df['Open'] - df['Open'].shift(1)) / df['Open'].shift(1)\n",
    "\n",
    "# Verify that both methods produce the same result\n",
    "print(\"\\nAre the results from both methods equal?\", np.allclose(daily_returns_pct, daily_returns_vec, equal_nan=True))\n",
    "\n",
    "# Display the daily returns\n",
    "print(\"\\nDaily Returns (first few rows):\")\n",
    "print(daily_returns_pct.head())\n",
    "print(\"\\nDaily Returns (last few rows):\")\n",
    "print(daily_returns_pct.tail())\n",
    "print(\"\\nLength of daily returns:\", len(daily_returns_pct))"
   ]
  }
 ],
 "metadata": {
  "kernelspec": {
   "display_name": "ArtificialIntelligence",
   "language": "python",
   "name": "python3"
  },
  "language_info": {
   "name": "python",
   "version": "3.12.6"
  }
 },
 "nbformat": 4,
 "nbformat_minor": 2
}
