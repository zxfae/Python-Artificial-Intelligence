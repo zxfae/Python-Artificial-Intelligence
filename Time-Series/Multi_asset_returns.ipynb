{
 "cells": [
  {
   "cell_type": "code",
   "execution_count": 1,
   "metadata": {},
   "outputs": [
    {
     "name": "stdout",
     "output_type": "stream",
     "text": [
      "Ticker          AAPL      AMZN       DAI         FB        GE\n",
      "Date                                                         \n",
      "2021-01-01       NaN       NaN       NaN        NaN       NaN\n",
      "2021-01-04 -1.471372 -1.308250 -3.317114 -12.421696  0.184882\n",
      "2021-01-05  0.979259  3.075367 -4.179220  -1.294913 -0.684713\n",
      "2021-01-06  0.213349 -0.525410 -0.181234   1.174719  0.298745\n",
      "2021-01-07 -3.606582  0.569064 -0.614543  -0.777084 -0.785111\n",
      "\n",
      "Shape of the DataFrame: (261, 5)\n"
     ]
    }
   ],
   "source": [
    "import pandas as pd\n",
    "import numpy as np\n",
    "\n",
    "# Set random seed for reproducibility\n",
    "np.random.seed(42)\n",
    "\n",
    "# Generate the data as per the provided code\n",
    "business_dates = pd.bdate_range('2021-01-01', '2021-12-31')\n",
    "tickers = ['AAPL', 'FB', 'GE', 'AMZN', 'DAI']\n",
    "index = pd.MultiIndex.from_product([business_dates, tickers], names=['Date', 'Ticker'])\n",
    "\n",
    "market_data = pd.DataFrame(index=index,\n",
    "                           data=np.random.randn(len(index), 1),\n",
    "                           columns=['Price'])\n",
    "\n",
    "daily_returns = market_data.pivot_table(values=\"Price\", index=\"Date\", columns=\"Ticker\").pct_change()\n",
    "\n",
    "print(daily_returns.head())\n",
    "\n",
    "print(\"\\nShape of the DataFrame:\", daily_returns.shape)"
   ]
  }
 ],
 "metadata": {
  "kernelspec": {
   "display_name": "ArtificialIntelligence",
   "language": "python",
   "name": "python3"
  },
  "language_info": {
   "codemirror_mode": {
    "name": "ipython",
    "version": 3
   },
   "file_extension": ".py",
   "mimetype": "text/x-python",
   "name": "python",
   "nbconvert_exporter": "python",
   "pygments_lexer": "ipython3",
   "version": "3.12.6"
  }
 },
 "nbformat": 4,
 "nbformat_minor": 2
}
