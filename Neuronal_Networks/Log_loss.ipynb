{
 "cells": [
  {
   "cell_type": "code",
   "execution_count": 2,
   "metadata": {},
   "outputs": [
    {
     "name": "stdout",
     "output_type": "stream",
     "text": [
      "Custom Log Loss: 0.5472899351247815\n",
      "Sklearn Log Loss: 0.5472899351247816\n",
      "Difference: 1.1102230246251565e-16\n"
     ]
    }
   ],
   "source": [
    "import numpy as np\n",
    "from sklearn.metrics import log_loss\n",
    "\n",
    "def log_loss_custom(y_true, y_pred, eps=1e-15):\n",
    "    y_pred = np.clip(y_pred, eps, 1 - eps)\n",
    "    loss = -np.mean(y_true * np.log(y_pred) + (1 - y_true) * np.log(1 - y_pred))\n",
    "    \n",
    "    return loss\n",
    "\n",
    "y_true = np.array([0, 1, 1, 0, 1])\n",
    "y_pred = np.array([0.1, 0.8, 0.6, 0.5, 0.3])\n",
    "\n",
    "custom_loss = log_loss_custom(y_true, y_pred)\n",
    "sklearn_loss = log_loss(y_true, y_pred)\n",
    "\n",
    "print(f\"Custom Log Loss: {custom_loss}\")\n",
    "print(f\"Sklearn Log Loss: {sklearn_loss}\")\n",
    "print(f\"Difference: {abs(custom_loss - sklearn_loss)}\")"
   ]
  }
 ],
 "metadata": {
  "kernelspec": {
   "display_name": "ArtificialIntelligence",
   "language": "python",
   "name": "python3"
  },
  "language_info": {
   "codemirror_mode": {
    "name": "ipython",
    "version": 3
   },
   "file_extension": ".py",
   "mimetype": "text/x-python",
   "name": "python",
   "nbconvert_exporter": "python",
   "pygments_lexer": "ipython3",
   "version": "3.12.6"
  }
 },
 "nbformat": 4,
 "nbformat_minor": 2
}
