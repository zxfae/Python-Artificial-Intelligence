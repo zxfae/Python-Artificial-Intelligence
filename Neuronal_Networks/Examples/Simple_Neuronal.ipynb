{
 "cells": [
  {
   "cell_type": "code",
   "execution_count": 31,
   "metadata": {},
   "outputs": [
    {
     "name": "stdout",
     "output_type": "stream",
     "text": [
      "Neuronal result : 0.9990889488055994\n",
      "Cold day, little motivated : Go to sleep\n",
      "Hot day, very motivated : Go  to sport\n",
      "Normally day, normal motivation : Go  to sport\n",
      "Neuronal weight : [0.1, 0.3]\n",
      "Neuronal B : -2\n"
     ]
    }
   ],
   "source": [
    "import math\n",
    "\n",
    "# Neuron Class\n",
    "class Neuron:\n",
    "    def __init__(self, w1, w2, biais):\n",
    "        self.weights = [w1, w2]\n",
    "        self.bias = biais\n",
    "\n",
    "    def sigmoid(self, x):\n",
    "        return 1 / (1 + math.exp(-x))\n",
    "    # xn * wn + b = f\n",
    "    def feedforward(self, x1, x2):\n",
    "        f = x1 * self.weights[0] + x2 * self.weights[1] + self.bias\n",
    "        out = self.sigmoid(f)\n",
    "        return out\n",
    "\n",
    "class MotivationNeuron(Neuron):\n",
    "    \n",
    "    def __init__(self):\n",
    "        super().__init__(w1=0.1, w2=0.3, biais=-2)\n",
    "\n",
    "    def decision(self, temperature, motivation):\n",
    "        result = self.feedforward(temperature, motivation)\n",
    "        return \"Go  to sport\" if result > 0.5 else \"Go to sleep\"\n",
    "\n",
    "neuron = Neuron(0, 1, 4)\n",
    "result = neuron.feedforward(2, 3)\n",
    "print(f\"Neuronal result : {result}\")\n",
    "\n",
    "player = MotivationNeuron()\n",
    "\n",
    "print(f\"Cold day, little motivated : {player.decision(temperature=12, motivation=2)}\")\n",
    "print(f\"Hot day, very motivated : {player.decision(temperature=25, motivation=9)}\")\n",
    "print(f\"Normally day, normal motivation : {player.decision(temperature=15, motivation=5)}\")\n",
    "\n",
    "print(f\"Neuronal weight : {player.weights}\")\n",
    "print(f\"Neuronal B : {player.bias}\")"
   ]
  }
 ],
 "metadata": {
  "kernelspec": {
   "display_name": "ArtificialIntelligence",
   "language": "python",
   "name": "python3"
  },
  "language_info": {
   "codemirror_mode": {
    "name": "ipython",
    "version": 3
   },
   "file_extension": ".py",
   "mimetype": "text/x-python",
   "name": "python",
   "nbconvert_exporter": "python",
   "pygments_lexer": "ipython3",
   "version": "3.12.6"
  }
 },
 "nbformat": 4,
 "nbformat_minor": 2
}
