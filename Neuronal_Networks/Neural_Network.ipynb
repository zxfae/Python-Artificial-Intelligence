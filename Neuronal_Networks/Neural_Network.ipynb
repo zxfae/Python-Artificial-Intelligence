{
 "cells": [
  {
   "cell_type": "code",
   "execution_count": 12,
   "metadata": {},
   "outputs": [],
   "source": [
    "import math"
   ]
  },
  {
   "cell_type": "markdown",
   "metadata": {},
   "source": [
    "#### Class Neuron"
   ]
  },
  {
   "cell_type": "code",
   "execution_count": 13,
   "metadata": {},
   "outputs": [],
   "source": [
    "class Neuron:\n",
    "    def __init__(self, w1, w2, b):\n",
    "        self.weights = [w1, w2]\n",
    "        self.bias = b\n",
    "\n",
    "    def sigmoid(self, x):\n",
    "        return 1 / (1 + math.exp(-x))\n",
    "    \n",
    "    def feedforward(self, x1, x2):\n",
    "        f = x1 * self.weights[0] + x2 * self.weights[1] + self.bias\n",
    "        return self.sigmoid(f)\n"
   ]
  },
  {
   "cell_type": "markdown",
   "metadata": {},
   "source": [
    "#### Add more neurons"
   ]
  },
  {
   "cell_type": "code",
   "execution_count": 14,
   "metadata": {},
   "outputs": [
    {
     "name": "stdout",
     "output_type": "stream",
     "text": [
      "Output 2 and 3 : 0.9524917424084265\n"
     ]
    }
   ],
   "source": [
    "class OurNeuralNetwork:\n",
    "    def __init__(self, neuron_h1, neuron_h2, neuron_o1):\n",
    "        self.h1 = neuron_h1\n",
    "        self.h2 = neuron_h2\n",
    "        self.o1 = neuron_o1\n",
    "\n",
    "    def feedforward(self, x1, x2):\n",
    "        out_h1 = self.h1.feedforward(x1, x2)\n",
    "        out_h2 = self.h2.feedforward(x1, x2)\n",
    "\n",
    "        y = self.o1.feedforward(out_h1, out_h2)\n",
    "\n",
    "        return y\n",
    "\n",
    "neuron_h1 = Neuron(1, 2, -1)\n",
    "neuron_h2 = Neuron(0.5, 1, 0)\n",
    "neuron_o1 = Neuron(2, 0, 1)\n",
    "\n",
    "network = OurNeuralNetwork(neuron_h1, neuron_h2, neuron_o1)\n",
    "\n",
    "x1, x2 = 2, 3\n",
    "output = network.feedforward(x1, x2)\n",
    "print(f\"Output {x1} and {x2} : {output}\")"
   ]
  }
 ],
 "metadata": {
  "kernelspec": {
   "display_name": "ArtificialIntelligence",
   "language": "python",
   "name": "python3"
  },
  "language_info": {
   "codemirror_mode": {
    "name": "ipython",
    "version": 3
   },
   "file_extension": ".py",
   "mimetype": "text/x-python",
   "name": "python",
   "nbconvert_exporter": "python",
   "pygments_lexer": "ipython3",
   "version": "3.12.6"
  }
 },
 "nbformat": 4,
 "nbformat_minor": 2
}
