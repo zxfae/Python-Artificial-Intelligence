{
 "cells": [
  {
   "cell_type": "code",
   "execution_count": 5,
   "metadata": {},
   "outputs": [
    {
     "name": "stdout",
     "output_type": "stream",
     "text": [
      "Bob: 14.918863163724454\n",
      "Eli: 14.83137890625537\n",
      "Tom: 15.086662606964074\n",
      "Ryan: 14.939270885974128\n",
      "Mean Squared Error: 10.23760869990914\n"
     ]
    }
   ],
   "source": [
    "import math\n",
    "\n",
    "class Neuron:\n",
    "    def __init__(self, weight1, weight2, bias, regression):\n",
    "        self.weights_1 = weight1\n",
    "        self.weights_2 = weight2\n",
    "        self.bias = bias\n",
    "        self.regression = regression\n",
    "\n",
    "    def sigmoid(self, x):\n",
    "        return 1 / (1 + math.exp(-x))\n",
    "\n",
    "    def feedforward(self, x1, x2):\n",
    "        sum = x1 * self.weights_1 + x2 * self.weights_2 + self.bias\n",
    "        if self.regression:\n",
    "            return sum \n",
    "        else:\n",
    "            return self.sigmoid(sum)\n",
    "\n",
    "def neural_network(math, chemistry):\n",
    "    neuron_h1 = Neuron(0.05, 0.001, 0, False)\n",
    "    neuron_h2 = Neuron(0.002, 0.003, 0, False)\n",
    "    neuron_o1 = Neuron(2, 7, 10, True)\n",
    "    \n",
    "    h1_output = neuron_h1.feedforward(math, chemistry)\n",
    "    h2_output = neuron_h2.feedforward(math, chemistry)\n",
    "    final_output = neuron_o1.feedforward(h1_output, h2_output)\n",
    "    \n",
    "    return final_output\n",
    "\n",
    "students = [\n",
    "    {\"name\": \"Bob\", \"math\": 12, \"chemistry\": 15, \"physics\": 16},\n",
    "    {\"name\": \"Eli\", \"math\": 10, \"chemistry\": 9, \"physics\": 10},\n",
    "    {\"name\": \"Tom\", \"math\": 18, \"chemistry\": 18, \"physics\": 19},\n",
    "    {\"name\": \"Ryan\", \"math\": 13, \"chemistry\": 14, \"physics\": 16}\n",
    "]\n",
    "\n",
    "for student in students:\n",
    "    prediction = neural_network(student[\"math\"], student[\"chemistry\"])\n",
    "    print(f\"{student['name']}: {prediction}\")\n",
    "\n",
    "\n",
    "def compute_mse(predictions, actual):\n",
    "    return sum((pred - act)**2 for pred, act in zip(predictions, actual)) / len(predictions)\n",
    "\n",
    "predictions = [neural_network(student[\"math\"], student[\"chemistry\"]) for student in students]\n",
    "actual = [student[\"physics\"] for student in students]\n",
    "\n",
    "mse = compute_mse(predictions, actual)\n",
    "print(f\"Mean Squared Error: {mse}\")"
   ]
  }
 ],
 "metadata": {
  "kernelspec": {
   "display_name": "ArtificialIntelligence",
   "language": "python",
   "name": "python3"
  },
  "language_info": {
   "codemirror_mode": {
    "name": "ipython",
    "version": 3
   },
   "file_extension": ".py",
   "mimetype": "text/x-python",
   "name": "python",
   "nbconvert_exporter": "python",
   "pygments_lexer": "ipython3",
   "version": "3.12.6"
  }
 },
 "nbformat": 4,
 "nbformat_minor": 2
}
