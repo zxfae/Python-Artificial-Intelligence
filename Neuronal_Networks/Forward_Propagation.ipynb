{
 "cells": [
  {
   "cell_type": "code",
   "execution_count": 2,
   "metadata": {},
   "outputs": [
    {
     "name": "stdout",
     "output_type": "stream",
     "text": [
      "Neural Network Outputs:\n",
      "Bob: 0.7855253278357536\n",
      "Eli: 0.7771516558846259\n",
      "Tom: 0.8067873659804015\n",
      "Ryan: 0.7892343955586032\n",
      "\n",
      "Log Loss: 0.5485133607757962\n"
     ]
    }
   ],
   "source": [
    "import numpy as np\n",
    "\n",
    "class Neuron:\n",
    "    def __init__(self, weight1, weight2, bias):\n",
    "        self.weight1 = weight1\n",
    "        self.weight2 = weight2\n",
    "        self.bias = bias\n",
    "    \n",
    "    def forward(self, input1, input2):\n",
    "        return self.weight1 * input1 + self.weight2 * input2 + self.bias\n",
    "\n",
    "def sigmoid(x):\n",
    "    return 1 / (1 + np.exp(-x))\n",
    "\n",
    "def forward_propagation(math, chemistry, neuron_h1, neuron_h2, neuron_o1):\n",
    "    h1_output = sigmoid(neuron_h1.forward(math, chemistry))\n",
    "    h2_output = sigmoid(neuron_h2.forward(math, chemistry))\n",
    "    o1_output = sigmoid(neuron_o1.forward(h1_output, h2_output))\n",
    "    \n",
    "    return o1_output\n",
    "\n",
    "def log_loss(y_true, y_pred, eps=1e-15):\n",
    "    y_pred = np.clip(y_pred, eps, 1 - eps)\n",
    "    return -np.mean(y_true * np.log(y_pred) + (1 - y_true) * np.log(1 - y_pred))\n",
    "\n",
    "data = [\n",
    "    {\"name\": \"Bob\", \"math\": 12, \"chemistry\": 15, \"exam_success\": 1},\n",
    "    {\"name\": \"Eli\", \"math\": 10, \"chemistry\": 9, \"exam_success\": 0},\n",
    "    {\"name\": \"Tom\", \"math\": 18, \"chemistry\": 18, \"exam_success\": 1},\n",
    "    {\"name\": \"Ryan\", \"math\": 13, \"chemistry\": 14, \"exam_success\": 1}\n",
    "]\n",
    "\n",
    "\n",
    "neuron_h1 = Neuron(0.05, 0.001, 0)\n",
    "neuron_h2 = Neuron(0.02, 0.003, 0)\n",
    "neuron_o1 = Neuron(2, 0, 0)\n",
    "\n",
    "y_true = []\n",
    "y_pred = []\n",
    "\n",
    "print(\"Neural Network Outputs:\")\n",
    "for student in data:\n",
    "    math = student[\"math\"]\n",
    "    chemistry = student[\"chemistry\"]\n",
    "    output = forward_propagation(math, chemistry, neuron_h1, neuron_h2, neuron_o1)\n",
    "    y_true.append(student[\"exam_success\"])\n",
    "    y_pred.append(output)\n",
    "    print(f\"{student['name']}: {output}\")\n",
    "\n",
    "\n",
    "y_true = np.array(y_true)\n",
    "y_pred = np.array(y_pred)\n",
    "loss = log_loss(y_true, y_pred)\n",
    "\n",
    "print(f\"\\nLog Loss: {loss}\")"
   ]
  }
 ],
 "metadata": {
  "kernelspec": {
   "display_name": "ArtificialIntelligence",
   "language": "python",
   "name": "python3"
  },
  "language_info": {
   "codemirror_mode": {
    "name": "ipython",
    "version": 3
   },
   "file_extension": ".py",
   "mimetype": "text/x-python",
   "name": "python",
   "nbconvert_exporter": "python",
   "pygments_lexer": "ipython3",
   "version": "3.12.6"
  }
 },
 "nbformat": 4,
 "nbformat_minor": 2
}
