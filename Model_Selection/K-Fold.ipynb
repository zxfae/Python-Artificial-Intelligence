{
 "cells": [
  {
   "cell_type": "code",
   "execution_count": 44,
   "metadata": {},
   "outputs": [
    {
     "name": "stdout",
     "output_type": "stream",
     "text": [
      "Fold: 1\n",
      "TRAIN: [2 3 4 5 6 7 8 9] TEST: [0 1]\n",
      "\n",
      "Fold: 2\n",
      "TRAIN: [0 1 4 5 6 7 8 9] TEST: [2 3]\n",
      "\n",
      "Fold: 3\n",
      "TRAIN: [0 1 2 3 6 7 8 9] TEST: [4 5]\n",
      "\n",
      "Fold: 4\n",
      "TRAIN: [0 1 2 3 4 5 8 9] TEST: [6 7]\n",
      "\n",
      "Fold: 5\n",
      "TRAIN: [0 1 2 3 4 5 6 7] TEST: [8 9]\n",
      "\n"
     ]
    }
   ],
   "source": [
    "import numpy as np\n",
    "from sklearn.model_selection import KFold\n",
    "\n",
    "X = np.array(np.arange(1, 21).reshape(10, -1))\n",
    "y = np.array(np.arange(1, 11))\n",
    "\n",
    "\n",
    "kf = KFold(n_splits=5, shuffle=False)\n",
    "\n",
    "for fold, (train_index, test_index) in enumerate(kf.split(X), 1):\n",
    "    print(f\"Fold: {fold}\")\n",
    "    print(f\"TRAIN: {train_index} TEST: {test_index}\\n\")"
   ]
  }
 ],
 "metadata": {
  "kernelspec": {
   "display_name": "ArtificialIntelligence",
   "language": "python",
   "name": "python3"
  },
  "language_info": {
   "codemirror_mode": {
    "name": "ipython",
    "version": 3
   },
   "file_extension": ".py",
   "mimetype": "text/x-python",
   "name": "python",
   "nbconvert_exporter": "python",
   "pygments_lexer": "ipython3",
   "version": "3.12.6"
  }
 },
 "nbformat": 4,
 "nbformat_minor": 2
}
