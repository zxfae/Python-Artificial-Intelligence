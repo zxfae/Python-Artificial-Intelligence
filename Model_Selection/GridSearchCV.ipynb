{
 "cells": [
  {
   "cell_type": "code",
   "execution_count": 1,
   "metadata": {},
   "outputs": [
    {
     "name": "stdout",
     "output_type": "stream",
     "text": [
      "Best parameters: {'max_depth': 15, 'n_estimators': 100}\n",
      "Best score on validation set: 0.260442963594118\n",
      "\n",
      "CV Results:\n",
      "Mean validation score: 0.4634 for {'max_depth': 5, 'n_estimators': 10}\n",
      "Mean validation score: 0.4546 for {'max_depth': 5, 'n_estimators': 50}\n",
      "Mean validation score: 0.4523 for {'max_depth': 5, 'n_estimators': 100}\n",
      "Mean validation score: 0.3112 for {'max_depth': 10, 'n_estimators': 10}\n",
      "Mean validation score: 0.2943 for {'max_depth': 10, 'n_estimators': 50}\n",
      "Mean validation score: 0.2919 for {'max_depth': 10, 'n_estimators': 100}\n",
      "Mean validation score: 0.2888 for {'max_depth': 15, 'n_estimators': 10}\n",
      "Mean validation score: 0.2637 for {'max_depth': 15, 'n_estimators': 50}\n",
      "Mean validation score: 0.2604 for {'max_depth': 15, 'n_estimators': 100}\n",
      "\n",
      "Mean Squared Error on test set: 0.24477404979641443\n",
      "R-squared score on test set: 0.8095845027708665\n"
     ]
    }
   ],
   "source": [
    "# Imports\n",
    "from sklearn.datasets import fetch_california_housing\n",
    "from sklearn.model_selection import train_test_split, GridSearchCV\n",
    "from sklearn.ensemble import RandomForestRegressor\n",
    "from sklearn.metrics import mean_squared_error\n",
    "import numpy as np\n",
    "\n",
    "# Data\n",
    "housing = fetch_california_housing()\n",
    "X, y = housing['data'], housing['target']\n",
    "\n",
    "X_train, X_test, y_train, y_test = train_test_split(X,\n",
    "                                                    y,\n",
    "                                                    test_size=0.1,\n",
    "                                                    shuffle=True,\n",
    "                                                    random_state=43)\n",
    "\n",
    "rf = RandomForestRegressor(random_state=43)\n",
    "\n",
    "param_grid = {\n",
    "    'max_depth': [5, 10, 15],\n",
    "    'n_estimators': [10, 50, 100],\n",
    "}\n",
    "\n",
    "grid_search = GridSearchCV(estimator=rf,\n",
    "                           param_grid=param_grid,\n",
    "                           cv=5,\n",
    "                           n_jobs=-1,\n",
    "                           scoring='neg_mean_squared_error')\n",
    "\n",
    "grid_search.fit(X_train, y_train)\n",
    "\n",
    "best_rf = grid_search.best_estimator_\n",
    "print(\"Best parameters:\", grid_search.best_params_)\n",
    "\n",
    "print(\"Best score on validation set:\", -grid_search.best_score_)\n",
    "\n",
    "print(\"\\nCV Results:\")\n",
    "for mean_score, params in zip(grid_search.cv_results_['mean_test_score'], grid_search.cv_results_['params']):\n",
    "    print(f\"Mean validation score: {-mean_score:.4f} for {params}\")\n",
    "\n",
    "y_pred = best_rf.predict(X_test)\n",
    "mse = mean_squared_error(y_test, y_pred)\n",
    "print(\"\\nMean Squared Error on test set:\", mse)\n",
    "\n",
    "r2 = best_rf.score(X_test, y_test)\n",
    "print(\"R-squared score on test set:\", r2)"
   ]
  }
 ],
 "metadata": {
  "kernelspec": {
   "display_name": "ArtificialIntelligence",
   "language": "python",
   "name": "python3"
  },
  "language_info": {
   "codemirror_mode": {
    "name": "ipython",
    "version": 3
   },
   "file_extension": ".py",
   "mimetype": "text/x-python",
   "name": "python",
   "nbconvert_exporter": "python",
   "pygments_lexer": "ipython3",
   "version": "3.12.6"
  }
 },
 "nbformat": 4,
 "nbformat_minor": 2
}
