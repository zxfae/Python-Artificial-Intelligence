{
 "cells": [
  {
   "cell_type": "code",
   "execution_count": null,
   "metadata": {},
   "outputs": [],
   "source": [
    "import pandas as pd"
   ]
  },
  {
   "cell_type": "code",
   "execution_count": null,
   "metadata": {},
   "outputs": [],
   "source": [
    "datas = pd.read_csv('Ecommerce_purchases.txt', sep=',', dtype=object)\n",
    "#Get file infos\n",
    "print(datas.info())"
   ]
  },
  {
   "cell_type": "code",
   "execution_count": null,
   "metadata": {},
   "outputs": [],
   "source": [
    "datas['Purchase Price'] = pd.to_numeric(datas['Purchase Price'], errors='coerce')\n",
    "average_purchase_price = datas['Purchase Price'].mean()\n",
    "print(f\"The Purchase Price is: ${average_purchase_price}\")\n",
    "\n",
    "#Get min price\n",
    "min_purchase_price = datas['Purchase Price'].min()\n",
    "print(\"min\", min_purchase_price)\n",
    "\n",
    "max_purchase_price = datas['Purchase Price'].max()\n",
    "print(\"max\", max_purchase_price)"
   ]
  },
  {
   "cell_type": "code",
   "execution_count": null,
   "metadata": {},
   "outputs": [],
   "source": [
    "datas['Language'] = datas['Language'].astype(str)\n",
    "\n",
    "en_count = (datas['Language'] == 'en').sum()\n",
    "\n",
    "print(f\"Number of people with English language : {en_count}\")"
   ]
  },
  {
   "cell_type": "code",
   "execution_count": null,
   "metadata": {},
   "outputs": [],
   "source": [
    "datas['Job'] = datas['Job'].astype(str)\n",
    "\n",
    "job_count = (datas['Job'] == 'Lawyer').sum()\n",
    "\n",
    "print(f\"Number of people with Lawyer job : {job_count}\")"
   ]
  },
  {
   "cell_type": "code",
   "execution_count": null,
   "metadata": {},
   "outputs": [],
   "source": [
    "datas['AM or PM'] = datas['AM or PM'].astype(str)\n",
    "am_pm_counts = datas['AM or PM'].value_counts()\n",
    "\n",
    "print(f\"\\nPurchasing during AM: {am_pm_counts.get('AM', 0)}\")\n",
    "print(f\"Purchasing during PM: {am_pm_counts.get('PM', 0)}\")"
   ]
  },
  {
   "cell_type": "code",
   "execution_count": null,
   "metadata": {},
   "outputs": [],
   "source": [
    "# Get 5 ++ of lists\n",
    "top_5 = datas['Job'].value_counts().head(5)\n",
    "# To string formatting\n",
    "print(\"The 5 mosts common : \", top_5.to_string())"
   ]
  },
  {
   "cell_type": "code",
   "execution_count": null,
   "metadata": {},
   "outputs": [],
   "source": [
    "transaction = datas[datas['Lot'] == '90 WT']\n",
    "\n",
    "if not transaction.empty:\n",
    "    purchase_price = transaction['Purchase Price'].values[0]\n",
    "    print(f\"The Purchase Price for the transaction from Lot '90 WT' was: ${purchase_price}\")\n",
    "else:\n",
    "    print(\"No transaction found from Lot '90 WT'\")"
   ]
  },
  {
   "cell_type": "code",
   "execution_count": null,
   "metadata": {},
   "outputs": [],
   "source": [
    "transaction = datas[datas['Credit Card'] == '4926535242672853']\n",
    "\n",
    "if not transaction.empty:\n",
    "    email = transaction['Email'].to_string()\n",
    "    print(f\"The Purchase Price for the transaction from Lot '90 WT' was: ${email}\")\n",
    "else:\n",
    "    print(\"No transaction found from CC '4926535242672853'\")"
   ]
  },
  {
   "cell_type": "code",
   "execution_count": null,
   "metadata": {},
   "outputs": [],
   "source": [
    "datas['Purchase Price'] = pd.to_numeric(datas['Purchase Price'], errors='coerce')\n",
    "\n",
    "amex_high_purchase = datas[(datas['CC Provider'] == 'American Express') & \n",
    "                           (datas['Purchase Price'] > 95)]\n",
    "\n",
    "count = len(amex_high_purchase)\n",
    "\n",
    "print(f\"Number of people with American Express cards who made a purchase above $95: {count}\")"
   ]
  },
  {
   "cell_type": "code",
   "execution_count": null,
   "metadata": {},
   "outputs": [],
   "source": [
    "# Convert 'CC Exp Date' to string type to ensure consistent handling\n",
    "datas['CC Exp Date'] = datas['CC Exp Date'].astype(str)\n",
    "\n",
    "# Count cards expiring in 2025 (represented as '/25')\n",
    "expiring_2025 = datas[datas['CC Exp Date'].str.endswith('/25')]\n",
    "count_2025 = len(expiring_2025)\n",
    "\n",
    "print(f\"Number of people with a credit card expiring in 2025: {count_2025}\")"
   ]
  },
  {
   "cell_type": "code",
   "execution_count": null,
   "metadata": {},
   "outputs": [],
   "source": [
    "# Extract email domain from email address\n",
    "datas['Email Provider'] = datas['Email'].str.split('@').str[1]\n",
    "\n",
    "# Get the top 5 most common email providers\n",
    "top_5_providers = datas['Email Provider'].value_counts().head(5)\n",
    "\n",
    "print(\"Top 5 most popular email providers:\")\n",
    "for provider, count in top_5_providers.items():\n",
    "    print(f\"{provider}: {count}\")"
   ]
  }
 ],
 "metadata": {
  "kernelspec": {
   "display_name": "ArtificialIntelligence",
   "language": "python",
   "name": "python3"
  },
  "language_info": {
   "name": "python",
   "version": "3.12.6"
  }
 },
 "nbformat": 4,
 "nbformat_minor": 2
}
