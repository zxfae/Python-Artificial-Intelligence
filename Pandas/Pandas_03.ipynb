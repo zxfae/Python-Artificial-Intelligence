{
 "cells": [
  {
   "cell_type": "code",
   "execution_count": 3,
   "metadata": {},
   "outputs": [],
   "source": [
    "import pandas as pd"
   ]
  },
  {
   "cell_type": "code",
   "execution_count": 4,
   "metadata": {},
   "outputs": [
    {
     "name": "stdout",
     "output_type": "stream",
     "text": [
      "<class 'pandas.core.frame.DataFrame'>\n",
      "RangeIndex: 10000 entries, 0 to 9999\n",
      "Data columns (total 14 columns):\n",
      " #   Column            Non-Null Count  Dtype \n",
      "---  ------            --------------  ----- \n",
      " 0   Address           10000 non-null  object\n",
      " 1   Lot               10000 non-null  object\n",
      " 2   AM or PM          10000 non-null  object\n",
      " 3   Browser Info      10000 non-null  object\n",
      " 4   Company           10000 non-null  object\n",
      " 5   Credit Card       10000 non-null  object\n",
      " 6   CC Exp Date       10000 non-null  object\n",
      " 7   CC Security Code  10000 non-null  object\n",
      " 8   CC Provider       10000 non-null  object\n",
      " 9   Email             10000 non-null  object\n",
      " 10  Job               10000 non-null  object\n",
      " 11  IP Address        10000 non-null  object\n",
      " 12  Language          10000 non-null  object\n",
      " 13  Purchase Price    10000 non-null  object\n",
      "dtypes: object(14)\n",
      "memory usage: 1.1+ MB\n",
      "None\n"
     ]
    }
   ],
   "source": [
    "datas = pd.read_csv('Ecommerce_purchases.txt', sep=',', dtype=object)\n",
    "#Get file infos\n",
    "print(datas.info())"
   ]
  },
  {
   "cell_type": "code",
   "execution_count": 5,
   "metadata": {},
   "outputs": [
    {
     "name": "stdout",
     "output_type": "stream",
     "text": [
      "The Purchase Price is: $50.347302\n",
      "min 0.0\n",
      "max 99.99\n"
     ]
    }
   ],
   "source": [
    "datas['Purchase Price'] = pd.to_numeric(datas['Purchase Price'], errors='coerce')\n",
    "average_purchase_price = datas['Purchase Price'].mean()\n",
    "print(f\"The Purchase Price is: ${average_purchase_price}\")\n",
    "\n",
    "#Get min price\n",
    "min_purchase_price = datas['Purchase Price'].min()\n",
    "print(\"min\", min_purchase_price)\n",
    "\n",
    "max_purchase_price = datas['Purchase Price'].max()\n",
    "print(\"max\", max_purchase_price)"
   ]
  },
  {
   "cell_type": "code",
   "execution_count": 6,
   "metadata": {},
   "outputs": [
    {
     "name": "stdout",
     "output_type": "stream",
     "text": [
      "Number of people with English language : 1098\n"
     ]
    }
   ],
   "source": [
    "datas['Language'] = datas['Language'].astype(str)\n",
    "\n",
    "en_count = (datas['Language'] == 'en').sum()\n",
    "\n",
    "print(f\"Number of people with English language : {en_count}\")"
   ]
  },
  {
   "cell_type": "code",
   "execution_count": 7,
   "metadata": {},
   "outputs": [
    {
     "name": "stdout",
     "output_type": "stream",
     "text": [
      "Number of people with Lawyer job : 30\n"
     ]
    }
   ],
   "source": [
    "datas['Job'] = datas['Job'].astype(str)\n",
    "\n",
    "job_count = (datas['Job'] == 'Lawyer').sum()\n",
    "\n",
    "print(f\"Number of people with Lawyer job : {job_count}\")"
   ]
  },
  {
   "cell_type": "code",
   "execution_count": 8,
   "metadata": {},
   "outputs": [
    {
     "name": "stdout",
     "output_type": "stream",
     "text": [
      "\n",
      "Purchasing during AM: 4932\n",
      "Purchasing during PM: 5068\n"
     ]
    }
   ],
   "source": [
    "datas['AM or PM'] = datas['AM or PM'].astype(str)\n",
    "am_pm_counts = datas['AM or PM'].value_counts()\n",
    "\n",
    "print(f\"\\nPurchasing during AM: {am_pm_counts.get('AM', 0)}\")\n",
    "print(f\"Purchasing during PM: {am_pm_counts.get('PM', 0)}\")"
   ]
  },
  {
   "cell_type": "code",
   "execution_count": 9,
   "metadata": {},
   "outputs": [
    {
     "name": "stdout",
     "output_type": "stream",
     "text": [
      "The 5 mosts common :  Job\n",
      "Interior and spatial designer        31\n",
      "Lawyer                               30\n",
      "Social researcher                    28\n",
      "Designer, jewellery                  27\n",
      "Research officer, political party    27\n"
     ]
    }
   ],
   "source": [
    "# Get 5 ++ of lists\n",
    "top_5 = datas['Job'].value_counts().head(5)\n",
    "# To string formatting\n",
    "print(\"The 5 mosts common : \", top_5.to_string())"
   ]
  },
  {
   "cell_type": "code",
   "execution_count": 10,
   "metadata": {},
   "outputs": [
    {
     "name": "stdout",
     "output_type": "stream",
     "text": [
      "The Purchase Price for the transaction from Lot '90 WT' was: $75.1\n"
     ]
    }
   ],
   "source": [
    "transaction = datas[datas['Lot'] == '90 WT']\n",
    "\n",
    "if not transaction.empty:\n",
    "    purchase_price = transaction['Purchase Price'].values[0]\n",
    "    print(f\"The Purchase Price for the transaction from Lot '90 WT' was: ${purchase_price}\")\n",
    "else:\n",
    "    print(\"No transaction found from Lot '90 WT'\")"
   ]
  },
  {
   "cell_type": "code",
   "execution_count": 11,
   "metadata": {},
   "outputs": [
    {
     "name": "stdout",
     "output_type": "stream",
     "text": [
      "The Purchase Price for the transaction from Lot '90 WT' was: $1234    bondellen@williams-garza.com\n"
     ]
    }
   ],
   "source": [
    "transaction = datas[datas['Credit Card'] == '4926535242672853']\n",
    "\n",
    "if not transaction.empty:\n",
    "    email = transaction['Email'].to_string()\n",
    "    print(f\"The Purchase Price for the transaction from Lot '90 WT' was: ${email}\")\n",
    "else:\n",
    "    print(\"No transaction found from CC '4926535242672853'\")"
   ]
  },
  {
   "cell_type": "code",
   "execution_count": 12,
   "metadata": {},
   "outputs": [
    {
     "name": "stdout",
     "output_type": "stream",
     "text": [
      "Number of people with American Express cards who made a purchase above $95: 39\n"
     ]
    }
   ],
   "source": [
    "datas['Purchase Price'] = pd.to_numeric(datas['Purchase Price'], errors='coerce')\n",
    "\n",
    "amex_high_purchase = datas[(datas['CC Provider'] == 'American Express') & \n",
    "                           (datas['Purchase Price'] > 95)]\n",
    "\n",
    "count = len(amex_high_purchase)\n",
    "\n",
    "print(f\"Number of people with American Express cards who made a purchase above $95: {count}\")"
   ]
  },
  {
   "cell_type": "code",
   "execution_count": 13,
   "metadata": {},
   "outputs": [
    {
     "name": "stdout",
     "output_type": "stream",
     "text": [
      "Number of people with a credit card expiring in 2025: 1033\n"
     ]
    }
   ],
   "source": [
    "# Convert 'CC Exp Date' to string type to ensure consistent handling\n",
    "datas['CC Exp Date'] = datas['CC Exp Date'].astype(str)\n",
    "\n",
    "# Count cards expiring in 2025 (represented as '/25')\n",
    "expiring_2025 = datas[datas['CC Exp Date'].str.endswith('/25')]\n",
    "count_2025 = len(expiring_2025)\n",
    "\n",
    "print(f\"Number of people with a credit card expiring in 2025: {count_2025}\")"
   ]
  },
  {
   "cell_type": "code",
   "execution_count": 14,
   "metadata": {},
   "outputs": [
    {
     "name": "stdout",
     "output_type": "stream",
     "text": [
      "Top 5 most popular email providers:\n",
      "hotmail.com: 1638\n",
      "yahoo.com: 1616\n",
      "gmail.com: 1605\n",
      "smith.com: 42\n",
      "williams.com: 37\n"
     ]
    }
   ],
   "source": [
    "# Extract email domain from email address\n",
    "datas['Email Provider'] = datas['Email'].str.split('@').str[1]\n",
    "\n",
    "# Get the top 5 most common email providers\n",
    "top_5_providers = datas['Email Provider'].value_counts().head(5)\n",
    "\n",
    "print(\"Top 5 most popular email providers:\")\n",
    "for provider, count in top_5_providers.items():\n",
    "    print(f\"{provider}: {count}\")"
   ]
  }
 ],
 "metadata": {
  "kernelspec": {
   "display_name": "ArtificialIntelligence",
   "language": "python",
   "name": "python3"
  },
  "language_info": {
   "codemirror_mode": {
    "name": "ipython",
    "version": 3
   },
   "file_extension": ".py",
   "mimetype": "text/x-python",
   "name": "python",
   "nbconvert_exporter": "python",
   "pygments_lexer": "ipython3",
   "version": "3.12.6"
  }
 },
 "nbformat": 4,
 "nbformat_minor": 2
}
