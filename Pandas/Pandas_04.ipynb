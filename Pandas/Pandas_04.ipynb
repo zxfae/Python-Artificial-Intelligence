{
 "cells": [
  {
   "cell_type": "code",
   "execution_count": null,
   "metadata": {
    "vscode": {
     "languageId": "plaintext"
    }
   },
   "outputs": [],
   "source": [
    "import pandas as pd\n",
    "import numpy as np\n",
    "\n",
    "# Load the dataset\n",
    "df = pd.read_csv(\"iris.csv\", delimiter=\",\")\n",
    "\n",
    "# Convert numeric columns to float, coercing errors to NaN\n",
    "numeric_columns = ['sepal_length', 'sepal_width', 'petal_length', 'petal_width']\n",
    "for column in numeric_columns:\n",
    "    df[column] = pd.to_numeric(df[column], errors='coerce')\n",
    "\n",
    "# Preliminary: Create a copy without the 'flower' column for numeric operations\n",
    "df_numeric = df[numeric_columns].copy()\n",
    "\n",
    "# 1. Fill missing values with different strategies for each column\n",
    "df2 = df_numeric.copy()\n",
    "\n",
    "df2['sepal_length'] = df2['sepal_length'].fillna(df2['sepal_length'].mean())\n",
    "df2['sepal_width'] = df2['sepal_width'].fillna(df2['sepal_width'].median())\n",
    "df2['petal_length'] = df2['petal_length'].fillna(0)\n",
    "df2['petal_width'] = df2['petal_width'].fillna(0)\n",
    "\n",
    "print(\"Dataset after strategy 1:\")\n",
    "print(df2.head())\n",
    "print(\"\\nMissing values after strategy 1:\")\n",
    "print(df2.isnull().sum())\n",
    "\n",
    "# 2. Fill missing values using the median of the associated column\n",
    "df3 = df_numeric.copy()\n",
    "\n",
    "for column in df3.columns:\n",
    "    df3[column] = df3[column].fillna(df3[column].median())\n",
    "\n",
    "print(\"\\nDataset after strategy 2:\")\n",
    "print(df3.head())\n",
    "print(\"\\nMissing values after strategy 2:\")\n",
    "print(df3.isnull().sum())\n",
    "\n",
    "# Find and print the special row\n",
    "special_row = df[(df['sepal_width'] < 0) | (df['petal_length'] < 0)]\n",
    "print(\"\\nSpecial row:\")\n",
    "print(special_row)\n",
    "\n",
    "# Bonus: Handle the special row\n",
    "# Option 1: Remove the row\n",
    "df_clean = df[~((df['sepal_width'] < 0) | (df['petal_length'] < 0))]\n",
    "\n",
    "# Option 2: Replace negative values with NaN and then impute\n",
    "df['sepal_width'] = df['sepal_width'].mask(df['sepal_width'] < 0)\n",
    "df['petal_length'] = df['petal_length'].mask(df['petal_length'] < 0)\n",
    "\n",
    "for column in numeric_columns:\n",
    "    df[column] = df[column].fillna(df[column].median())\n",
    "\n",
    "print(\"\\nDataset after handling special row:\")\n",
    "print(df.head())\n",
    "print(\"\\nMissing values after handling special row:\")\n",
    "print(df[numeric_columns].isnull().sum())\n",
    "\n",
    "# Print summary statistics to verify the changes\n",
    "print(\"\\nSummary statistics:\")\n",
    "print(df[numeric_columns].describe())"
   ]
  }
 ],
 "metadata": {
  "language_info": {
   "name": "python"
  }
 },
 "nbformat": 4,
 "nbformat_minor": 2
}
