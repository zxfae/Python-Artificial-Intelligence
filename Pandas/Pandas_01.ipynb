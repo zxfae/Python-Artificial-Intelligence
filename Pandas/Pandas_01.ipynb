{
 "cells": [
  {
   "cell_type": "code",
   "execution_count": null,
   "metadata": {},
   "outputs": [],
   "source": [
    "import pandas as pd\n"
   ]
  },
  {
   "cell_type": "code",
   "execution_count": null,
   "metadata": {},
   "outputs": [],
   "source": [
    "# One dimensional array\n",
    "color = pd.Series(['Blue', 'Red', 'Pink', 'Grey', 'Black'])\n",
    "list = pd.Series([[1, 2], [3, 4], [5, 6], [7, 8], [9, 10]])\n",
    "number = pd.Series([1.1, 2.2, 3.3, 4.4,5.5])"
   ]
  },
  {
   "cell_type": "code",
   "execution_count": null,
   "metadata": {},
   "outputs": [],
   "source": [
    "# Create dataFrame\n",
    "df = pd.DataFrame({'color': color, 'list': list, 'number': number})\n",
    "# Add index\n",
    "df.index = ['1', '3', '5', '7', '9']\n",
    "print(df)"
   ]
  },
  {
   "cell_type": "code",
   "execution_count": null,
   "metadata": {},
   "outputs": [],
   "source": [
    "print(\"\\n\")\n",
    "#Print df Dtype \n",
    "for types in {type(df.dtypes)}:\n",
    "    print(f\"{types}\")"
   ]
  },
  {
   "cell_type": "code",
   "execution_count": null,
   "metadata": {},
   "outputs": [],
   "source": [
    "print(\"\\n\")\n",
    "#Print dtype for each row\n",
    "for column in df.columns:\n",
    "    print(f\"{column}: {type(df[column].iloc[0])}\")"
   ]
  }
 ],
 "metadata": {
  "kernelspec": {
   "display_name": "ArtificialIntelligence",
   "language": "python",
   "name": "python3"
  },
  "language_info": {
   "name": "python",
   "version": "3.12.6"
  }
 },
 "nbformat": 4,
 "nbformat_minor": 2
}
