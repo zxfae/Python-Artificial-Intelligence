{
 "cells": [
  {
   "cell_type": "code",
   "execution_count": 1,
   "metadata": {},
   "outputs": [],
   "source": [
    "import pandas as pd\n"
   ]
  },
  {
   "cell_type": "code",
   "execution_count": 2,
   "metadata": {},
   "outputs": [],
   "source": [
    "# One dimensional array\n",
    "color = pd.Series(['Blue', 'Red', 'Pink', 'Grey', 'Black'])\n",
    "list = pd.Series([[1, 2], [3, 4], [5, 6], [7, 8], [9, 10]])\n",
    "number = pd.Series([1.1, 2.2, 3.3, 4.4,5.5])"
   ]
  },
  {
   "cell_type": "code",
   "execution_count": 3,
   "metadata": {},
   "outputs": [
    {
     "name": "stdout",
     "output_type": "stream",
     "text": [
      "   color     list  number\n",
      "1   Blue   [1, 2]     1.1\n",
      "3    Red   [3, 4]     2.2\n",
      "5   Pink   [5, 6]     3.3\n",
      "7   Grey   [7, 8]     4.4\n",
      "9  Black  [9, 10]     5.5\n"
     ]
    }
   ],
   "source": [
    "# Create dataFrame\n",
    "df = pd.DataFrame({'color': color, 'list': list, 'number': number})\n",
    "# Add index\n",
    "df.index = ['1', '3', '5', '7', '9']\n",
    "print(df)"
   ]
  },
  {
   "cell_type": "code",
   "execution_count": 4,
   "metadata": {},
   "outputs": [
    {
     "name": "stdout",
     "output_type": "stream",
     "text": [
      "\n",
      "\n",
      "<class 'pandas.core.series.Series'>\n"
     ]
    }
   ],
   "source": [
    "print(\"\\n\")\n",
    "#Print df Dtype \n",
    "for types in {type(df.dtypes)}:\n",
    "    print(f\"{types}\")"
   ]
  },
  {
   "cell_type": "code",
   "execution_count": 5,
   "metadata": {},
   "outputs": [
    {
     "name": "stdout",
     "output_type": "stream",
     "text": [
      "\n",
      "\n",
      "color: <class 'str'>\n",
      "list: <class 'list'>\n",
      "number: <class 'numpy.float64'>\n"
     ]
    }
   ],
   "source": [
    "print(\"\\n\")\n",
    "#Print dtype for each row\n",
    "for column in df.columns:\n",
    "    print(f\"{column}: {type(df[column].iloc[0])}\")"
   ]
  }
 ],
 "metadata": {
  "kernelspec": {
   "display_name": "ArtificialIntelligence",
   "language": "python",
   "name": "python3"
  },
  "language_info": {
   "codemirror_mode": {
    "name": "ipython",
    "version": 3
   },
   "file_extension": ".py",
   "mimetype": "text/x-python",
   "name": "python",
   "nbconvert_exporter": "python",
   "pygments_lexer": "ipython3",
   "version": "3.12.6"
  }
 },
 "nbformat": 4,
 "nbformat_minor": 2
}
