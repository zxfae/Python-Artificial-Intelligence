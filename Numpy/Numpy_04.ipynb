{
 "cells": [
  {
   "cell_type": "code",
   "execution_count": 34,
   "metadata": {},
   "outputs": [],
   "source": [
    "import numpy as np"
   ]
  },
  {
   "cell_type": "code",
   "execution_count": 35,
   "metadata": {},
   "outputs": [],
   "source": [
    "# Mersenne Twister algoritm\n",
    "# Good practice using random.seed \n",
    "np.random.seed(888)\n",
    "# NumPy recommands numpy.random.default_rng()"
   ]
  },
  {
   "cell_type": "code",
   "execution_count": 36,
   "metadata": {},
   "outputs": [
    {
     "name": "stdout",
     "output_type": "stream",
     "text": [
      "Array [-1.76200874e-01  1.88876361e-01  8.26747180e-01 -3.24473146e-02\n",
      " -6.52499418e-01 -1.05339382e-01  2.17776116e-01  5.87281504e-01\n",
      "  1.00237892e-01 -1.09994668e+00 -2.55305389e-01  4.05304381e-01\n",
      "  1.62663953e-01  1.04163462e+00  2.24324184e-01  6.99304449e-01\n",
      " -8.65543512e-01 -1.39346831e+00 -2.36687913e-01 -7.57041911e-01\n",
      "  1.31429195e+00 -9.77385899e-01 -3.59032576e-01  1.16141585e-01\n",
      " -3.51081138e-01 -4.39838344e-01 -4.90995473e-02 -4.31596770e-01\n",
      " -1.08875099e+00 -2.31088106e+00 -1.86236420e+00  2.34708674e-01\n",
      " -8.95585921e-01 -5.40834525e-01 -4.02399061e-01  2.31458561e-02\n",
      "  1.77688506e-01 -5.73309272e-01 -3.38392138e-01 -2.64422114e-03\n",
      "  1.44930339e+00  1.36605641e+00  2.69187461e+00  6.76065035e-01\n",
      " -1.06098418e+00  1.31845313e-01  1.71934297e-01  8.88062794e-02\n",
      "  1.03963016e+00 -1.37846942e-01 -3.69232844e-01  3.19587912e+00\n",
      "  1.11457451e+00 -2.59516296e-01  1.48370897e+00 -1.57049065e+00\n",
      "  9.78899330e-01  1.76070681e+00  3.53121953e-01 -3.08510762e-01\n",
      " -1.40481067e+00 -6.54547811e-01 -1.37791290e+00 -2.42605914e-01\n",
      " -1.17542916e+00  6.96400848e-01  2.84105779e-01 -1.01948195e+00\n",
      "  1.09675079e+00  2.41646711e-01 -3.67039678e-01 -2.19894776e+00\n",
      "  1.41872937e+00  2.20794136e-01  7.92524915e-01 -2.23775806e-01\n",
      " -6.96694068e-01 -9.17717925e-01 -1.47199487e+00  1.87770559e+00\n",
      "  1.51033108e+00  1.18732817e-01  6.50728248e-01 -7.07655562e-01\n",
      "  1.69862924e+00  1.34663117e+00  5.26657670e-01 -6.13561456e-01\n",
      " -1.79179012e-01 -1.28634991e+00  1.41675325e+00 -1.81351151e-01\n",
      " -1.02037575e-01 -6.03250569e-01  1.20489600e+00  9.62265746e-01\n",
      "  8.61170433e-01  1.96244237e+00 -1.15548773e+00  3.45259423e-01]\n"
     ]
    }
   ],
   "source": [
    "normal_array = np.random.randn(100)\n",
    "print(\"Array\", normal_array)"
   ]
  },
  {
   "cell_type": "code",
   "execution_count": 37,
   "metadata": {},
   "outputs": [
    {
     "name": "stdout",
     "output_type": "stream",
     "text": [
      "Array 2d [[ 9  8  4  6  9  1  3  2]\n",
      " [ 3  9  9  5  4  7  2  8]\n",
      " [ 5  6  9  1  1  6  8  7]\n",
      " [ 7  1  4  1 10  4  3  5]\n",
      " [ 5 10  1 10  7 10  6  1]\n",
      " [ 6  8  7  4  6 10  3  5]\n",
      " [ 4 10  7  9  9 10  9  9]\n",
      " [ 5  3  2 10  8  5  5  3]]\n"
     ]
    }
   ],
   "source": [
    "# Create 2d Array with 8 row, 8 column\n",
    "# Value 1 -> 11\n",
    "# Syntaxe np.random.randint(low, high=None, size=None)\n",
    "uniform_2d = np.random.randint(1, 11, (8, 8))\n",
    "print(\"Array 2d\", uniform_2d)"
   ]
  },
  {
   "cell_type": "code",
   "execution_count": 38,
   "metadata": {},
   "outputs": [],
   "source": [
    "#Create 3d Array\n",
    "#Matrice Betwen 1 - 17 - 4 matrices, 2 lines, 5 elements\n",
    "uniform_3d = np.random.randint(1, 18, (4, 2, 5))"
   ]
  },
  {
   "cell_type": "code",
   "execution_count": 39,
   "metadata": {},
   "outputs": [
    {
     "name": "stdout",
     "output_type": "stream",
     "text": [
      "Array 3d [[[ 5  2 13 16 15]\n",
      "  [ 5  5  2 11  3]]\n",
      "\n",
      " [[ 8 13  6  4 17]\n",
      "  [ 2  8  1 13 10]]\n",
      "\n",
      " [[12 17 17 12  1]\n",
      "  [10  8 17  5 11]]\n",
      "\n",
      " [[ 9 14  2 15 13]\n",
      "  [12 14  6 14  2]]]\n"
     ]
    }
   ],
   "source": [
    "print(\"Array 3d\", uniform_3d)"
   ]
  }
 ],
 "metadata": {
  "kernelspec": {
   "display_name": "ArtificialIntelligence",
   "language": "python",
   "name": "python3"
  },
  "language_info": {
   "codemirror_mode": {
    "name": "ipython",
    "version": 3
   },
   "file_extension": ".py",
   "mimetype": "text/x-python",
   "name": "python",
   "nbconvert_exporter": "python",
   "pygments_lexer": "ipython3",
   "version": "3.12.6"
  }
 },
 "nbformat": 4,
 "nbformat_minor": 2
}
