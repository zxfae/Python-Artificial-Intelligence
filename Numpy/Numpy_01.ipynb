{
 "cells": [
  {
   "cell_type": "code",
   "execution_count": 8,
   "id": "e25fc6ee-1eaa-4663-a951-b7d02504a961",
   "metadata": {},
   "outputs": [],
   "source": [
    "import numpy as np"
   ]
  },
  {
   "cell_type": "code",
   "execution_count": 9,
   "id": "7600c60d-f833-426b-a208-6970203b26cc",
   "metadata": {},
   "outputs": [],
   "source": [
    "# Create an array\n",
    "# int, float, str, dictionnary, list, tuple, set, bool\n",
    "my_array = np.array([123, 123.123, \"Hello World !\", {\"Key\": \"value\"}, [1,2,3], (1,2,3), {1,2,3}, True], dtype=object)"
   ]
  },
  {
   "cell_type": "code",
   "execution_count": 10,
   "id": "ea700895",
   "metadata": {},
   "outputs": [
    {
     "name": "stdout",
     "output_type": "stream",
     "text": [
      "123\n",
      "123.123\n",
      "Hello World !\n",
      "{'Key': 'value'}\n",
      "[1, 2, 3]\n",
      "(1, 2, 3)\n",
      "{1, 2, 3}\n",
      "True\n"
     ]
    }
   ],
   "source": [
    "for i in my_array:\n",
    "    print(i)"
   ]
  }
 ],
 "metadata": {
  "kernelspec": {
   "display_name": "ArtificialIntelligence",
   "language": "python",
   "name": "python3"
  },
  "language_info": {
   "codemirror_mode": {
    "name": "ipython",
    "version": 3
   },
   "file_extension": ".py",
   "mimetype": "text/x-python",
   "name": "python",
   "nbconvert_exporter": "python",
   "pygments_lexer": "ipython3",
   "version": "3.12.6"
  }
 },
 "nbformat": 4,
 "nbformat_minor": 5
}
