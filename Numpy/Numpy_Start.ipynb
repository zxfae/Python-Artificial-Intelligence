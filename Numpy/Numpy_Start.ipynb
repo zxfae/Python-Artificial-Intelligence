{
 "cells": [
  {
   "cell_type": "markdown",
   "id": "0d5d3d18-5cf4-41e1-bb4e-9ec890fb0fde",
   "metadata": {},
   "source": [
    "# h1 TITLE\n",
    "# h2 TITLE"
   ]
  },
  {
   "cell_type": "code",
   "execution_count": 3,
   "id": "4c2ba46d-bdcf-43e6-a50d-df3b7efd430c",
   "metadata": {},
   "outputs": [
    {
     "name": "stdout",
     "output_type": "stream",
     "text": [
      "Buy the dip ?\n"
     ]
    }
   ],
   "source": [
    "print(\"Buy the dip ?\")"
   ]
  },
  {
   "cell_type": "code",
   "execution_count": null,
   "id": "a05673be-43be-4096-a354-da04acc5cd64",
   "metadata": {},
   "outputs": [],
   "source": []
  }
 ],
 "metadata": {
  "kernelspec": {
   "display_name": "Python 3 (ipykernel)",
   "language": "python",
   "name": "python3"
  },
  "language_info": {
   "codemirror_mode": {
    "name": "ipython",
    "version": 3
   },
   "file_extension": ".py",
   "mimetype": "text/x-python",
   "name": "python",
   "nbconvert_exporter": "python",
   "pygments_lexer": "ipython3",
   "version": "3.12.6"
  }
 },
 "nbformat": 4,
 "nbformat_minor": 5
}
