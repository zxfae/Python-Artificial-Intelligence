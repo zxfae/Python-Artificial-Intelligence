{
 "cells": [
  {
   "cell_type": "code",
   "execution_count": 16,
   "metadata": {},
   "outputs": [],
   "source": [
    "import numpy as np\n",
    "from sklearn.linear_model import LogisticRegression"
   ]
  },
  {
   "cell_type": "markdown",
   "metadata": {},
   "source": [
    "###### Datas"
   ]
  },
  {
   "cell_type": "code",
   "execution_count": 17,
   "metadata": {},
   "outputs": [],
   "source": [
    "X = [[0], [0.1], [0.2], [1], [1.1], [1.2], [1.3]]\n",
    "y = [0, 0, 0, 1, 1, 1, 0]"
   ]
  },
  {
   "cell_type": "markdown",
   "metadata": {},
   "source": [
    "##### 1 - Set logisticRegression instance and set data training at. Predict the class for x[[0.5]]"
   ]
  },
  {
   "cell_type": "code",
   "execution_count": 18,
   "metadata": {},
   "outputs": [
    {
     "name": "stdout",
     "output_type": "stream",
     "text": [
      "Predicted class is [0]\n"
     ]
    }
   ],
   "source": [
    "# Default value at solver algorithm's lbfgs;\n",
    "# You need to change if u have perfomance problems or need to resolve with oth alg, \n",
    "model = LogisticRegression(random_state=42, solver='lbfgs', max_iter=1000).fit(X,y)\n",
    "\n",
    "X_predict = np.array([[0.5]])\n",
    "prediction = model.predict(X_predict)\n",
    "# Result expected 0 or 1\n",
    "print(f\"Predicted class is {prediction}\")"
   ]
  },
  {
   "cell_type": "markdown",
   "metadata": {},
   "source": [
    "#### 2 - Predict the probabilities for x_pred = [[0.5]] using predict_proba."
   ]
  },
  {
   "cell_type": "code",
   "execution_count": 19,
   "metadata": {},
   "outputs": [
    {
     "name": "stdout",
     "output_type": "stream",
     "text": [
      "Predicted probabilities for input 0.5:\n",
      "Class 0: 0.6145020611089416\n",
      "Have 61.45020611089416% of class 0\n",
      "Class 1: 0.3854979388910584\n",
      "Have 38.549793889105835% of class 1\n"
     ]
    }
   ],
   "source": [
    "X_predict = np.array([[0.5]])\n",
    "probabilities = model.predict_proba(X_predict)\n",
    "\n",
    "print(f\"Predicted probabilities for input {X_predict[0][0]}:\")\n",
    "print(\"Class 0:\", probabilities[0][0])\n",
    "print(f\"Have {(probabilities[0][0]*100)}% of class 0\")\n",
    "print(\"Class 1:\", probabilities[0][1])\n",
    "print(f\"Have {(probabilities[0][1]*100)}% of class 1\")\n",
    "\n",
    "# If probabilities[0][0] > probabilities[0][1] modal = 0\n",
    "# else modal = 1 "
   ]
  },
  {
   "cell_type": "markdown",
   "metadata": {},
   "source": [
    "#### 3 - Print coefficients, intercept, and score\n"
   ]
  },
  {
   "cell_type": "code",
   "execution_count": 20,
   "metadata": {},
   "outputs": [
    {
     "name": "stdout",
     "output_type": "stream",
     "text": [
      "\n",
      "3. Model characteristics:\n",
      "   Coefficient: 0.8179326401330038\n",
      "   Intercept: -0.875242756787558\n",
      "   Score (accuracy) on training data: 0.7142857142857143\n"
     ]
    }
   ],
   "source": [
    "print(\"\\n3. Model characteristics:\")\n",
    "print(\"   Coefficient:\", model.coef_[0][0])\n",
    "print(\"   Intercept:\", model.intercept_[0])\n",
    "print(\"   Score (accuracy) on training data:\", model.score(X, y))"
   ]
  }
 ],
 "metadata": {
  "kernelspec": {
   "display_name": "ArtificialIntelligence",
   "language": "python",
   "name": "python3"
  },
  "language_info": {
   "codemirror_mode": {
    "name": "ipython",
    "version": 3
   },
   "file_extension": ".py",
   "mimetype": "text/x-python",
   "name": "python",
   "nbconvert_exporter": "python",
   "pygments_lexer": "ipython3",
   "version": "3.12.6"
  }
 },
 "nbformat": 4,
 "nbformat_minor": 2
}
