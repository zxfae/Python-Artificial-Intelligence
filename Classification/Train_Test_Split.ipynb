{
 "cells": [
  {
   "cell_type": "code",
   "execution_count": 20,
   "metadata": {},
   "outputs": [],
   "source": [
    "import numpy as np\n",
    "from sklearn.model_selection import train_test_split"
   ]
  },
  {
   "cell_type": "markdown",
   "metadata": {},
   "source": [
    "###### Datas"
   ]
  },
  {
   "cell_type": "code",
   "execution_count": 21,
   "metadata": {},
   "outputs": [],
   "source": [
    "\n",
    "# Part 1: Basic splitting\n",
    "X = np.arange(1, 21).reshape(10, -1)\n",
    "y = np.zeros(10)\n",
    "y[7:] = 1"
   ]
  },
  {
   "cell_type": "markdown",
   "metadata": {},
   "source": [
    "#### 1 - Split the data using train_test_split with shuffle=False. The test set represents 20% of the total size of the data set. Print X_train, y_train, X_test, y_test. Compute the proportion of class 1 on the train set and test set."
   ]
  },
  {
   "cell_type": "code",
   "execution_count": 22,
   "metadata": {},
   "outputs": [
    {
     "name": "stdout",
     "output_type": "stream",
     "text": [
      "X_train:\n",
      "[[ 1  2]\n",
      " [ 3  4]\n",
      " [ 5  6]\n",
      " [ 7  8]\n",
      " [ 9 10]\n",
      " [11 12]\n",
      " [13 14]\n",
      " [15 16]]\n",
      "\n",
      "y_train:\n",
      "[0. 0. 0. 0. 0. 0. 0. 1.]\n",
      "\n",
      "X_test:\n",
      "[[17 18]\n",
      " [19 20]]\n",
      "\n",
      "y_test:\n",
      "[1. 1.]\n",
      "\n",
      "Proportion of class 1 in train set: 0.125\n"
     ]
    }
   ],
   "source": [
    "X_train, X_test, y_train, y_test = train_test_split(X, y, test_size=0.2, shuffle=False)\n",
    "\n",
    "print(\"X_train:\")\n",
    "print(X_train)\n",
    "print(\"\\ny_train:\")\n",
    "print(y_train)\n",
    "print(\"\\nX_test:\")\n",
    "print(X_test)\n",
    "print(\"\\ny_test:\")\n",
    "print(y_test)\n",
    "\n",
    "train_prop = np.mean(y_train)\n",
    "test_prop = np.mean(y_test)\n",
    "\n",
    "print(f\"\\nProportion of class 1 in train set: {train_prop:.3f}\")"
   ]
  },
  {
   "cell_type": "markdown",
   "metadata": {},
   "source": [
    "#### 2 - Having a train set with different properties than the test set is not recommended. The analogy of the exam (https://www.youtube.com/watch?v=_vdMKioCXqQ) helps to understand this point: if the questions you have at the exam are completely different from what you prepared for you are not evaluated on what you learn. The training set has to be representative of the data set. Now, split the data in a train set and test set, but keep the proportion of class 1 nearly constant. The parameter shuffle in theory works as it relies on a random sampling. The parameter stratify will always split the data and keep the same proportion of class 1 in the train set and test set. Using the parameter stratify split the data below and print the proportion of class 1 in the train set and train set."
   ]
  },
  {
   "cell_type": "code",
   "execution_count": 23,
   "metadata": {},
   "outputs": [
    {
     "name": "stdout",
     "output_type": "stream",
     "text": [
      "\n",
      "Part 2: Stratified splitting\n",
      "Proportion of class 1 in train set: 0.30\n",
      "Proportion of class 1 in test set: 0.30\n"
     ]
    }
   ],
   "source": [
    "print(\"\\nPart 2: Stratified splitting\")\n",
    "X = np.arange(1, 201).reshape(100, -1)\n",
    "y = np.zeros(100)\n",
    "y[70:] = 1\n",
    "\n",
    "X_train, X_test, y_train, y_test = train_test_split(X, y, test_size=0.2, stratify=y)\n",
    "\n",
    "train_prop = np.mean(y_train)\n",
    "test_prop = np.mean(y_test)\n",
    "\n",
    "print(f\"Proportion of class 1 in train set: {train_prop:.2f}\")\n",
    "print(f\"Proportion of class 1 in test set: {test_prop:.2f}\")"
   ]
  }
 ],
 "metadata": {
  "kernelspec": {
   "display_name": "ArtificialIntelligence",
   "language": "python",
   "name": "python3"
  },
  "language_info": {
   "codemirror_mode": {
    "name": "ipython",
    "version": 3
   },
   "file_extension": ".py",
   "mimetype": "text/x-python",
   "name": "python",
   "nbconvert_exporter": "python",
   "pygments_lexer": "ipython3",
   "version": "3.12.6"
  }
 },
 "nbformat": 4,
 "nbformat_minor": 2
}
