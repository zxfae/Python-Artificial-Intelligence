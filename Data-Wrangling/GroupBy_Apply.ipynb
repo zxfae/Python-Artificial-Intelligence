{
 "cells": [
  {
   "cell_type": "code",
   "execution_count": 11,
   "metadata": {},
   "outputs": [],
   "source": [
    "import pandas as pd\n",
    "import numpy as np\n",
    "\n",
    "def winsorize(df, quantiles):\n",
    "    \"\"\"\n",
    "    Winsorize the data in the DataFrame.\n",
    "    \n",
    "    df: pd.DataFrame\n",
    "    quantiles: list\n",
    "        ex: [0.05, 0.95]\n",
    "    \"\"\"\n",
    "    lower, upper = np.quantile(df, quantiles)\n",
    "    return df.clip(lower=lower, upper=upper)"
   ]
  },
  {
   "cell_type": "code",
   "execution_count": 12,
   "metadata": {},
   "outputs": [
    {
     "name": "stdout",
     "output_type": "stream",
     "text": [
      "|    |   sequence |\n",
      "|---:|-----------:|\n",
      "|  0 |        2.8 |\n",
      "|  1 |        2.8 |\n",
      "|  2 |        3   |\n",
      "|  3 |        4   |\n",
      "|  4 |        5   |\n",
      "|  5 |        6   |\n",
      "|  6 |        7   |\n",
      "|  7 |        8   |\n",
      "|  8 |        8.2 |\n",
      "|  9 |        8.2 |\n"
     ]
    }
   ],
   "source": [
    "df = pd.DataFrame(range(1,11), columns=['sequence'])\n",
    "print(winsorize(df, [0.20, 0.80]).to_markdown())"
   ]
  },
  {
   "cell_type": "code",
   "execution_count": 13,
   "metadata": {},
   "outputs": [
    {
     "name": "stdout",
     "output_type": "stream",
     "text": [
      "|    |   sequence |\n",
      "|---:|-----------:|\n",
      "|  0 |       1.45 |\n",
      "|  1 |       2    |\n",
      "|  2 |       3    |\n",
      "|  3 |       4    |\n",
      "|  4 |       5    |\n",
      "|  5 |       6    |\n",
      "|  6 |       7    |\n",
      "|  7 |       8    |\n",
      "|  8 |       9    |\n",
      "|  9 |       9.55 |\n",
      "| 10 |      11.45 |\n"
     ]
    },
    {
     "name": "stderr",
     "output_type": "stream",
     "text": [
      "/tmp/ipykernel_67543/3112865694.py:10: DeprecationWarning: DataFrameGroupBy.apply operated on the grouping columns. This behavior is deprecated, and in a future version of pandas the grouping columns will be excluded from the operation. Either pass `include_groups=False` to exclude the groupings or explicitly select the grouping columns after groupby to silence this warning.\n",
      "  return df.groupby(group_column).apply(lambda x: winsorize(x[[value_column]], quantiles)).reset_index(drop=True)\n"
     ]
    }
   ],
   "source": [
    "def group_winsorize(df, group_column, value_column, quantiles=[0.05, 0.95]):\n",
    "    \"\"\"\n",
    "    Apply winsorizing to each group in the DataFrame.\n",
    "    \n",
    "    df: pd.DataFrame\n",
    "    group_column: str\n",
    "    value_column: str\n",
    "    quantiles: list, default [0.05, 0.95]\n",
    "    \"\"\"\n",
    "    return df.groupby(group_column).apply(lambda x: winsorize(x[[value_column]], quantiles)).reset_index(drop=True)\n",
    "\n",
    "# Create the example DataFrame\n",
    "groups = np.concatenate([np.ones(10), np.ones(10)+1,  np.ones(10)+2, np.ones(10)+3, np.ones(10)+4])\n",
    "df = pd.DataFrame(data=zip(groups, range(1,51)), columns=[\"group\", \"sequence\"])\n",
    "\n",
    "# Apply group winsorizing\n",
    "result = group_winsorize(df, 'group', 'sequence')\n",
    "\n",
    "# Display the first rows of the result\n",
    "print(result.head(11).to_markdown())"
   ]
  }
 ],
 "metadata": {
  "kernelspec": {
   "display_name": "ArtificialIntelligence",
   "language": "python",
   "name": "python3"
  },
  "language_info": {
   "codemirror_mode": {
    "name": "ipython",
    "version": 3
   },
   "file_extension": ".py",
   "mimetype": "text/x-python",
   "name": "python",
   "nbconvert_exporter": "python",
   "pygments_lexer": "ipython3",
   "version": "3.12.6"
  }
 },
 "nbformat": 4,
 "nbformat_minor": 2
}
