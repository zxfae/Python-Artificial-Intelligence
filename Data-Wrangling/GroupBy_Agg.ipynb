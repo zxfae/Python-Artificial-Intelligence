{
 "cells": [
  {
   "cell_type": "code",
   "execution_count": 2,
   "metadata": {},
   "outputs": [
    {
     "name": "stdout",
     "output_type": "stream",
     "text": [
      "| product      |   ('value', 'min') |   ('value', 'max') |   ('value', 'mean') |\n",
      "|:-------------|-------------------:|-------------------:|--------------------:|\n",
      "| chair        |              22.89 |              32.12 |              27.505 |\n",
      "| mobile phone |             100    |             111.22 |             105.61  |\n",
      "| table        |              20.45 |              99.99 |              51.22  |\n"
     ]
    }
   ],
   "source": [
    "import pandas as pd\n",
    "\n",
    "# Create the DataFrame\n",
    "data = {\n",
    "    'product': ['table', 'chair', 'chair', 'mobile phone', 'table', 'mobile phone', 'table'],\n",
    "    'value': [20.45, 22.89, 32.12, 111.22, 33.22, 100, 99.99]\n",
    "}\n"
   ]
  },
  {
   "cell_type": "code",
   "execution_count": null,
   "metadata": {},
   "outputs": [],
   "source": [
    "df = pd.DataFrame(data)\n",
    "\n",
    "result = df.groupby('product')['value'].agg(['min', 'max', 'mean'])\n",
    "result.columns = [f\"('value', '{col}')\" for col in result.columns]\n",
    "\n",
    "print(result.to_markdown())"
   ]
  }
 ],
 "metadata": {
  "kernelspec": {
   "display_name": "ArtificialIntelligence",
   "language": "python",
   "name": "python3"
  },
  "language_info": {
   "codemirror_mode": {
    "name": "ipython",
    "version": 3
   },
   "file_extension": ".py",
   "mimetype": "text/x-python",
   "name": "python",
   "nbconvert_exporter": "python",
   "pygments_lexer": "ipython3",
   "version": "3.12.6"
  }
 },
 "nbformat": 4,
 "nbformat_minor": 2
}
