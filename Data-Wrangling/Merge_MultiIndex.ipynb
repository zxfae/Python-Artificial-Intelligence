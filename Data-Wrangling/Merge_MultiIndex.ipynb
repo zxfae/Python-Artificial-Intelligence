{
 "cells": [
  {
   "cell_type": "code",
   "execution_count": 10,
   "metadata": {},
   "outputs": [],
   "source": [
    "import numpy as np\n",
    "import pandas as pd"
   ]
  },
  {
   "cell_type": "code",
   "execution_count": 11,
   "metadata": {},
   "outputs": [
    {
     "name": "stdout",
     "output_type": "stream",
     "text": [
      "                       Open     Close  Close_Adjusted   Twitter    Reddit\n",
      "Date       Ticker                                                        \n",
      "2021-01-01 AAPL   -0.560106  0.077072       -0.908934  0.198966 -0.100276\n",
      "           FB      1.021115 -0.208738        0.463106  1.504853 -0.102366\n",
      "           GE     -1.319212  0.034965        0.489919  1.755112 -1.687278\n",
      "           AMZN   -0.540264 -0.256314       -0.640101 -1.529788 -0.021799\n",
      "           DAI     0.857562  0.265790        0.245845  0.438897  0.900532\n",
      "2021-01-04 AAPL    0.067868  0.005801        0.322900 -1.063079 -0.949772\n",
      "           FB      0.939008 -2.493055       -0.258368  0.009419 -0.565369\n",
      "           GE      1.162652 -0.593230        1.729360 -0.692904 -1.304308\n",
      "           AMZN   -1.596303  0.668037       -1.052685  1.043287  0.067847\n",
      "           DAI     0.276389 -0.454807       -1.070539 -1.780465 -0.116564\n",
      "<class 'pandas.core.frame.DataFrame'>\n",
      "MultiIndex: 1305 entries, (Timestamp('2021-01-01 00:00:00'), 'AAPL') to (Timestamp('2021-12-31 00:00:00'), 'DAI')\n",
      "Data columns (total 5 columns):\n",
      " #   Column          Non-Null Count  Dtype  \n",
      "---  ------          --------------  -----  \n",
      " 0   Open            1305 non-null   float64\n",
      " 1   Close           1305 non-null   float64\n",
      " 2   Close_Adjusted  1305 non-null   float64\n",
      " 3   Twitter         1305 non-null   float64\n",
      " 4   Reddit          1305 non-null   float64\n",
      "dtypes: float64(5)\n",
      "memory usage: 97.5+ KB\n",
      "None\n"
     ]
    }
   ],
   "source": [
    "import pandas as pd\n",
    "import numpy as np\n",
    "\n",
    "all_dates = pd.date_range('2021-01-01', '2021-12-15')\n",
    "business_dates = pd.bdate_range('2021-01-01', '2021-12-31')\n",
    "\n",
    "tickers = ['AAPL', 'FB', 'GE', 'AMZN', 'DAI']\n",
    "\n",
    "index_alt = pd.MultiIndex.from_product([all_dates, tickers], names=['Date', 'Ticker'])\n",
    "index = pd.MultiIndex.from_product([business_dates, tickers], names=['Date', 'Ticker'])\n",
    "\n",
    "market_data = pd.DataFrame(index=index,\n",
    "                           data=np.random.randn(len(index), 3),\n",
    "                           columns=['Open', 'Close', 'Close_Adjusted'])\n",
    "\n",
    "alternative_data = pd.DataFrame(index=index_alt,\n",
    "                                data=np.random.randn(len(index_alt), 2),\n",
    "                                columns=['Twitter', 'Reddit'])\n",
    "\n",
    "merged_data = pd.merge(market_data, alternative_data, left_index=True, right_index=True, how='left')\n",
    "\n",
    "merged_data = merged_data.fillna(0)\n",
    "\n",
    "print(merged_data.head(10))\n",
    "\n",
    "print(merged_data.info())"
   ]
  }
 ],
 "metadata": {
  "kernelspec": {
   "display_name": "ArtificialIntelligence",
   "language": "python",
   "name": "python3"
  },
  "language_info": {
   "codemirror_mode": {
    "name": "ipython",
    "version": 3
   },
   "file_extension": ".py",
   "mimetype": "text/x-python",
   "name": "python",
   "nbconvert_exporter": "python",
   "pygments_lexer": "ipython3",
   "version": "3.12.6"
  }
 },
 "nbformat": 4,
 "nbformat_minor": 2
}
