{
 "cells": [
  {
   "cell_type": "code",
   "execution_count": 8,
   "metadata": {},
   "outputs": [],
   "source": [
    "import numpy as np\n",
    "import pandas as pd"
   ]
  },
  {
   "cell_type": "code",
   "execution_count": 9,
   "metadata": {},
   "outputs": [
    {
     "name": "stdout",
     "output_type": "stream",
     "text": [
      "                       Open     Close  Close_Adjusted   Twitter    Reddit\n",
      "Date       Ticker                                                        \n",
      "2021-01-01 AAPL   -0.910625 -0.468180       -1.043286  0.736631 -0.676578\n",
      "           FB      1.393959  0.579681        1.440113 -0.531057 -0.416225\n",
      "           GE      0.915225 -0.334385       -0.037339 -0.576340  0.245678\n",
      "           AMZN    0.247228 -0.015399       -0.289496  1.193335  0.153005\n",
      "           DAI    -0.480793  1.110442        0.137108 -0.495780 -1.505242\n",
      "2021-01-04 AAPL   -1.255188 -0.093717       -1.627363  0.258476  0.064856\n",
      "           FB      0.043210 -0.634596       -0.092570  1.144809  0.594516\n",
      "           GE      1.408909 -1.015453       -0.435277 -2.116472  0.243923\n",
      "           AMZN    1.037574  0.384562        1.155618  0.443464  0.286123\n",
      "           DAI     1.507155  0.177036        0.275529  0.026851 -0.115811\n",
      "<class 'pandas.core.frame.DataFrame'>\n",
      "MultiIndex: 1305 entries, (Timestamp('2021-01-01 00:00:00'), 'AAPL') to (Timestamp('2021-12-31 00:00:00'), 'DAI')\n",
      "Data columns (total 5 columns):\n",
      " #   Column          Non-Null Count  Dtype  \n",
      "---  ------          --------------  -----  \n",
      " 0   Open            1305 non-null   float64\n",
      " 1   Close           1305 non-null   float64\n",
      " 2   Close_Adjusted  1305 non-null   float64\n",
      " 3   Twitter         1305 non-null   float64\n",
      " 4   Reddit          1305 non-null   float64\n",
      "dtypes: float64(5)\n",
      "memory usage: 97.5+ KB\n",
      "None\n"
     ]
    }
   ],
   "source": [
    "import pandas as pd\n",
    "import numpy as np\n",
    "\n",
    "all_dates = pd.date_range('2021-01-01', '2021-12-15')\n",
    "business_dates = pd.bdate_range('2021-01-01', '2021-12-31')\n",
    "\n",
    "tickers = ['AAPL', 'FB', 'GE', 'AMZN', 'DAI']\n",
    "\n",
    "index_alt = pd.MultiIndex.from_product([all_dates, tickers], names=['Date', 'Ticker'])\n",
    "index = pd.MultiIndex.from_product([business_dates, tickers], names=['Date', 'Ticker'])\n",
    "\n",
    "market_data = pd.DataFrame(index=index,\n",
    "                           data=np.random.randn(len(index), 3),\n",
    "                           columns=['Open', 'Close', 'Close_Adjusted'])\n",
    "\n",
    "alternative_data = pd.DataFrame(index=index_alt,\n",
    "                                data=np.random.randn(len(index_alt), 2),\n",
    "                                columns=['Twitter', 'Reddit'])\n",
    "\n",
    "merged_data = pd.merge(market_data, alternative_data, left_index=True, right_index=True, how='left')\n",
    "\n",
    "merged_data = merged_data.fillna(0)\n",
    "\n",
    "print(merged_data.head(10))\n",
    "\n",
    "print(merged_data.info())"
   ]
  }
 ],
 "metadata": {
  "kernelspec": {
   "display_name": "ArtificialIntelligence",
   "language": "python",
   "name": "python3"
  },
  "language_info": {
   "codemirror_mode": {
    "name": "ipython",
    "version": 3
   },
   "file_extension": ".py",
   "mimetype": "text/x-python",
   "name": "python",
   "nbconvert_exporter": "python",
   "pygments_lexer": "ipython3",
   "version": "3.12.6"
  }
 },
 "nbformat": 4,
 "nbformat_minor": 2
}
