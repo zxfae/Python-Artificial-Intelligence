{
 "cells": [
  {
   "cell_type": "code",
   "execution_count": null,
   "metadata": {
    "vscode": {
     "languageId": "plaintext"
    }
   },
   "outputs": [],
   "source": [
    "import numpy as np\n",
    "import plotly.graph_objects as go\n",
    "from plotly.subplots import make_subplots\n",
    "\n",
    "# Set random seed for reproducibility\n",
    "np.random.seed(42)\n",
    "\n",
    "# Generate data\n",
    "y0 = np.random.randn(50)\n",
    "y1 = np.random.randn(50) + 1 \n",
    "y2 = np.random.randn(50) + 2\n",
    "\n",
    "# Create figure\n",
    "fig = go.Figure()\n",
    "\n",
    "# Add box plots\n",
    "fig.add_trace(go.Box(y=y0, name='Y0'))\n",
    "fig.add_trace(go.Box(y=y1, name='Y1'))\n",
    "fig.add_trace(go.Box(y=y2, name='Y2'))\n",
    "\n",
    "# Update layout\n",
    "fig.update_layout(\n",
    "    title='Box Plot of Three Distributions',\n",
    "    yaxis_title='Value',\n",
    "    showlegend=True,\n",
    "    boxmode='group'\n",
    ")\n",
    "\n",
    "# Show plot\n",
    "fig.show()"
   ]
  }
 ],
 "metadata": {
  "language_info": {
   "name": "python"
  }
 },
 "nbformat": 4,
 "nbformat_minor": 2
}
