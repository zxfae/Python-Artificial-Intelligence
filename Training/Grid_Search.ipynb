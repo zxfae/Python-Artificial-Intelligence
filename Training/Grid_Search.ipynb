{
 "cells": [
  {
   "cell_type": "code",
   "execution_count": 1,
   "metadata": {},
   "outputs": [
    {
     "name": "stdout",
     "output_type": "stream",
     "text": [
      "Fitting 1 folds for each of 27 candidates, totalling 27 fits\n",
      "[CV] END max_depth=None, min_samples_leaf=4, n_estimators=100; total time=  15.3s\n",
      "[CV] END max_depth=None, min_samples_leaf=2, n_estimators=100; total time=  16.6s\n",
      "[CV] END max_depth=None, min_samples_leaf=1, n_estimators=100; total time=  19.4s\n",
      "[CV] END .max_depth=10, min_samples_leaf=1, n_estimators=100; total time=  11.8s\n",
      "[CV] END max_depth=None, min_samples_leaf=4, n_estimators=200; total time=  31.0s\n",
      "[CV] END max_depth=None, min_samples_leaf=2, n_estimators=200; total time=  36.8s\n",
      "[CV] END max_depth=None, min_samples_leaf=1, n_estimators=200; total time=  46.2s\n",
      "[CV] END .max_depth=10, min_samples_leaf=2, n_estimators=100; total time=  16.9s\n",
      "[CV] END .max_depth=10, min_samples_leaf=1, n_estimators=200; total time=  29.6s\n",
      "[CV] END max_depth=None, min_samples_leaf=2, n_estimators=300; total time= 1.1min\n",
      "[CV] END .max_depth=10, min_samples_leaf=4, n_estimators=100; total time=  16.3s\n",
      "[CV] END .max_depth=10, min_samples_leaf=2, n_estimators=200; total time=  31.2s\n",
      "[CV] END max_depth=None, min_samples_leaf=1, n_estimators=300; total time= 1.2min\n",
      "[CV] END max_depth=None, min_samples_leaf=4, n_estimators=300; total time= 1.0min\n",
      "[CV] END .max_depth=10, min_samples_leaf=1, n_estimators=300; total time=  50.0s\n",
      "[CV] END .max_depth=10, min_samples_leaf=4, n_estimators=200; total time=  33.9s\n",
      "[CV] END .max_depth=20, min_samples_leaf=1, n_estimators=100; total time=  28.0s\n",
      "[CV] END .max_depth=10, min_samples_leaf=2, n_estimators=300; total time=  49.2s\n",
      "[CV] END .max_depth=20, min_samples_leaf=2, n_estimators=100; total time=  23.1s\n",
      "[CV] END .max_depth=10, min_samples_leaf=4, n_estimators=300; total time=  48.3s\n",
      "[CV] END .max_depth=20, min_samples_leaf=4, n_estimators=100; total time=  21.5s\n",
      "[CV] END .max_depth=20, min_samples_leaf=1, n_estimators=200; total time=  55.5s\n",
      "[CV] END .max_depth=20, min_samples_leaf=2, n_estimators=200; total time=  46.2s\n",
      "[CV] END .max_depth=20, min_samples_leaf=4, n_estimators=200; total time=  38.8s\n",
      "[CV] END .max_depth=20, min_samples_leaf=2, n_estimators=300; total time= 1.1min\n",
      "[CV] END .max_depth=20, min_samples_leaf=1, n_estimators=300; total time= 1.2min\n",
      "[CV] END .max_depth=20, min_samples_leaf=4, n_estimators=300; total time=  50.8s\n",
      "Best parameters: {'max_depth': None, 'min_samples_leaf': 4, 'n_estimators': 300}\n",
      "Best score: 0.7087410208787848\n",
      "Prediction for the new point: 2.4413941567168944\n"
     ]
    }
   ],
   "source": [
    "import numpy as np\n",
    "from sklearn.datasets import fetch_california_housing\n",
    "from sklearn.ensemble import RandomForestRegressor\n",
    "from sklearn.model_selection import GridSearchCV\n",
    "\n",
    "# Load the California Housing dataset\n",
    "california = fetch_california_housing()\n",
    "X, y = california.data, california.target\n",
    "\n",
    "# Define the parameter grid\n",
    "param_grid = {\n",
    "    'n_estimators': [100, 200, 300],\n",
    "    'max_depth': [None, 10, 20],\n",
    "    'min_samples_leaf': [1, 2, 4]\n",
    "}\n",
    "\n",
    "# Initialize the Random Forest model\n",
    "rf = RandomForestRegressor(random_state=42)\n",
    "\n",
    "# Initialize GridSearchCV\n",
    "gs = GridSearchCV(estimator=rf, param_grid=param_grid, cv=[(np.arange(18576), np.arange(18576,20640))], n_jobs=-1, verbose=2)\n",
    "\n",
    "# Fit the model\n",
    "gs.fit(X, y)\n",
    "\n",
    "# Function to select the best model and return details\n",
    "def select_model_verbose(gs):\n",
    "    trained_model = gs.best_estimator_\n",
    "    best_params = gs.best_params_\n",
    "    best_score = gs.best_score_\n",
    "    return trained_model, best_params, best_score\n",
    "\n",
    "# Get the best model, parameters, and score\n",
    "best_model, best_params, best_score = select_model_verbose(gs)\n",
    "\n",
    "print(\"Best parameters:\", best_params)\n",
    "print(\"Best score:\", best_score)\n",
    "\n",
    "# Predict on a new point\n",
    "new_point = np.array([[3.2031, 52., 5.47761194, 1.07960199, 910., 2.26368159, 37.85, -122.26]])\n",
    "prediction = best_model.predict(new_point)\n",
    "print(\"Prediction for the new point:\", prediction[0])"
   ]
  }
 ],
 "metadata": {
  "kernelspec": {
   "display_name": "ArtificialIntelligence",
   "language": "python",
   "name": "python3"
  },
  "language_info": {
   "codemirror_mode": {
    "name": "ipython",
    "version": 3
   },
   "file_extension": ".py",
   "mimetype": "text/x-python",
   "name": "python",
   "nbconvert_exporter": "python",
   "pygments_lexer": "ipython3",
   "version": "3.12.6"
  }
 },
 "nbformat": 4,
 "nbformat_minor": 2
}
